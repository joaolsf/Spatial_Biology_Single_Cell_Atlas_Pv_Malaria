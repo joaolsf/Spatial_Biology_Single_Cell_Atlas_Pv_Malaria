{
 "cells": [
  {
   "cell_type": "markdown",
   "id": "907a2730",
   "metadata": {},
   "source": [
    "# Import libraries and setup¶"
   ]
  },
  {
   "cell_type": "code",
   "execution_count": null,
   "id": "5165f7cc",
   "metadata": {
    "scrolled": true
   },
   "outputs": [],
   "source": [
    "# Import libraries we may need\n",
    "import scanpy as sc\n",
    "import numpy as np\n",
    "import scipy as sp\n",
    "#import squidpy as sq\n",
    "import pandas as pd\n",
    "import matplotlib.pyplot as plt\n",
    "from matplotlib import rcParams\n",
    "from matplotlib import colors\n",
    "import seaborn as sb\n",
    "import scanpy.external as sce\n",
    "import umap\n",
    "reducer = umap.UMAP()\n",
    "import scvelo as scv\n"
   ]
  },
  {
   "cell_type": "code",
   "execution_count": null,
   "id": "560632d0",
   "metadata": {},
   "outputs": [],
   "source": [
    "import anndata as ad"
   ]
  },
  {
   "cell_type": "code",
   "execution_count": null,
   "id": "6da012e6",
   "metadata": {},
   "outputs": [],
   "source": [
    "# Set up output figure settings\n",
    "plt.rcParams['figure.figsize']=(128,128) #rescale figures, increase sizehere\n",
    "\n",
    "# Set up scanpy settings\n",
    "sc.settings.verbosity = 3\n",
    "sc.set_figure_params(dpi=100, dpi_save=300) #Increase DPI for better resolution figures\n",
    "#sc.logging.print_versions()"
   ]
  },
  {
   "cell_type": "code",
   "execution_count": null,
   "id": "f2228a4e-27c6-4788-9e18-58158d6a8e98",
   "metadata": {},
   "outputs": [],
   "source": [
    "import igraph"
   ]
  },
  {
   "cell_type": "markdown",
   "id": "1162318b",
   "metadata": {},
   "source": [
    "# Save / restore environemnt"
   ]
  },
  {
   "cell_type": "markdown",
   "id": "87b25171",
   "metadata": {},
   "source": [
    "Use these functions to either save or load the environmental variables, otherwise you will lose all the objects between opening/closing Jupyter sessions!"
   ]
  },
  {
   "cell_type": "code",
   "execution_count": null,
   "id": "ecc87cef",
   "metadata": {},
   "outputs": [],
   "source": [
    "#save the session\n",
    "dill.dump_session('BM_Lonza_dataset_scVelo.db')"
   ]
  },
  {
   "cell_type": "code",
   "execution_count": null,
   "id": "f51b8c65",
   "metadata": {},
   "outputs": [],
   "source": [
    "#load the session\n",
    "dill.load_session('DC_SCANPY.db')"
   ]
  },
  {
   "cell_type": "markdown",
   "id": "0ba8f5f0",
   "metadata": {},
   "source": [
    "# Read the data"
   ]
  },
  {
   "cell_type": "code",
   "execution_count": null,
   "id": "dff60c9c",
   "metadata": {},
   "outputs": [],
   "source": [
    "cd /Users/joaoluizsfilho/Library/CloudStorage/Dropbox/Work_Files/Matthias_Lab/Projects/Vivax_human_project/Results/Prospective_Study_1/BM_lonza/scRNAseq/Scanpy_analysis"
   ]
  },
  {
   "cell_type": "code",
   "execution_count": null,
   "id": "65b07e7e",
   "metadata": {},
   "outputs": [],
   "source": [
    "pwd"
   ]
  },
  {
   "cell_type": "code",
   "execution_count": null,
   "id": "bfd8d96f",
   "metadata": {},
   "outputs": [],
   "source": [
    "#Read your data file (loom, h5ad, csv, …) using:\n",
    "\n",
    "adata = scv.read('./h5ad_files/Lonza_dataset/BM_query.h5ad', cache=True)"
   ]
  },
  {
   "cell_type": "code",
   "execution_count": null,
   "id": "2defee22",
   "metadata": {},
   "outputs": [],
   "source": [
    "adata"
   ]
  },
  {
   "cell_type": "code",
   "execution_count": null,
   "id": "9841bc62",
   "metadata": {},
   "outputs": [],
   "source": [
    "adata.obs['sample_id']"
   ]
  },
  {
   "cell_type": "markdown",
   "id": "af3de4ee",
   "metadata": {},
   "source": [
    "# Load, combine and prepare adata for scVelo analysis - option 1"
   ]
  },
  {
   "cell_type": "code",
   "execution_count": null,
   "id": "e6884fd9",
   "metadata": {},
   "outputs": [],
   "source": [
    "# load and combine .loom files\n",
    "\n",
    "files = ['./loom_files/HD_BM1.1.loom', './loom_files/HD_BM1.2.loom', './loom_files/HD_BM2.1.loom', './loom_files/HD_BM2.2.loom', './loom_files/HD_BM3.1.loom', './loom_files/HD_BM3.2.loom', './loom_files/HD_BM4.1.loom', './loom_files/HD_BM4.2.loom']"
   ]
  },
  {
   "cell_type": "code",
   "execution_count": null,
   "id": "a8825c09",
   "metadata": {},
   "outputs": [],
   "source": [
    "import loompy\n",
    "loompy.combine(files = files, output_file = './loom_files/Lonza_dataset.loom', key=\"Accession\")"
   ]
  },
  {
   "cell_type": "code",
   "execution_count": null,
   "id": "288cb40d",
   "metadata": {},
   "outputs": [],
   "source": [
    "#load combined loom file\n",
    "Lonza_dataset = scv.read('./loom_files/Lonza_dataset.loom', cache=True)"
   ]
  },
  {
   "cell_type": "code",
   "execution_count": null,
   "id": "87cd4f5d",
   "metadata": {},
   "outputs": [],
   "source": [
    "Lonza_dataset"
   ]
  },
  {
   "cell_type": "code",
   "execution_count": null,
   "id": "62cf735b",
   "metadata": {},
   "outputs": [],
   "source": [
    "scv.pp.remove_duplicate_cells(Lonza_dataset)\n",
    "Lonza_dataset.var_names_make_unique()"
   ]
  },
  {
   "cell_type": "code",
   "execution_count": null,
   "id": "c22f2699",
   "metadata": {
    "scrolled": true
   },
   "outputs": [],
   "source": [
    "Lonza_dataset"
   ]
  },
  {
   "cell_type": "code",
   "execution_count": null,
   "id": "d199f3d5",
   "metadata": {},
   "outputs": [],
   "source": [
    "scv.utils.clean_obs_names(adata)\n",
    "scv.utils.clean_obs_names(Lonza_dataset)"
   ]
  },
  {
   "cell_type": "code",
   "execution_count": null,
   "id": "5a895c70",
   "metadata": {},
   "outputs": [],
   "source": [
    "#see discussions on github: https://github.com/theislab/scvelo/issues/989\n",
    "adata = scv.utils.merge(adata, Lonza_dataset)"
   ]
  },
  {
   "cell_type": "code",
   "execution_count": null,
   "id": "13505b52",
   "metadata": {},
   "outputs": [],
   "source": [
    "adata"
   ]
  },
  {
   "cell_type": "code",
   "execution_count": null,
   "id": "37a875bd",
   "metadata": {},
   "outputs": [],
   "source": [
    "adata.obs"
   ]
  },
  {
   "cell_type": "code",
   "execution_count": null,
   "id": "279e9d1e",
   "metadata": {},
   "outputs": [],
   "source": [
    "Lonza_dataset.obs"
   ]
  },
  {
   "cell_type": "code",
   "execution_count": null,
   "id": "4cd62f42",
   "metadata": {},
   "outputs": [],
   "source": [
    "adata.write('./h5ad_files/Lonza_dataset/BM_query_scVelo.h5ad')"
   ]
  },
  {
   "cell_type": "code",
   "execution_count": null,
   "id": "e14f33ce",
   "metadata": {},
   "outputs": [],
   "source": [
    "adata2 = scv.read('./h5ad_files/Lonza_dataset/BM_query_scVelo.h5ad', cache=True)"
   ]
  },
  {
   "cell_type": "code",
   "execution_count": null,
   "id": "e44838e4",
   "metadata": {},
   "outputs": [],
   "source": [
    "adata2"
   ]
  },
  {
   "cell_type": "code",
   "execution_count": null,
   "id": "10f357d2",
   "metadata": {},
   "outputs": [],
   "source": [
    "adata2.obs['sample_id']"
   ]
  },
  {
   "cell_type": "markdown",
   "id": "94e51a59",
   "metadata": {},
   "source": [
    "# Load, combine and prepare adata for scVelo analysis - option 2"
   ]
  },
  {
   "cell_type": "raw",
   "id": "eb77d24f",
   "metadata": {},
   "source": [
    "# following this reference: https://smorabit.github.io/tutorials/8_velocyto/"
   ]
  },
  {
   "cell_type": "code",
   "execution_count": null,
   "id": "58b97c39",
   "metadata": {},
   "outputs": [],
   "source": [
    "# load loom files for spliced/unspliced matrices for each sample:\n",
    "ldata1 = scv.read('./loom_files/Sample_BM-1.loom', cache=True)\n",
    "ldata2 = scv.read('./loom_files/Sample_BM-2.loom', cache=True)\n",
    "ldata3 = scv.read('./loom_files/Sample_BM-3.loom', cache=True)\n",
    "ldata4 = scv.read('./loom_files/Sample_BM-4.loom', cache=True)\n",
    "ldata5 = scv.read('./loom_files/Sample_BM-5.loom', cache=True)\n",
    "ldata6 = scv.read('./loom_files/Sample_BM-6.loom', cache=True)\n",
    "ldata7 = scv.read('./loom_files/Sample_BM-7.loom', cache=True)\n",
    "ldata8 = scv.read('./loom_files/Sample_BM-8.loom', cache=True)"
   ]
  },
  {
   "cell_type": "code",
   "execution_count": null,
   "id": "d464f4b8",
   "metadata": {},
   "outputs": [],
   "source": [
    "# rename barcodes in order to merge:\n",
    "#barcodes = [bc.split(':')[1] for bc in ldata1.obs.index.tolist()]\n",
    "#barcodes = [bc[0:len(bc)-1] + '_1' for bc in barcodes]\n",
    "#ldata1.obs.index = barcodes\n",
    "\n",
    "barcodes = [bc.split(':')[1] for bc in ldata2.obs.index.tolist()]\n",
    "barcodes = [bc[0:len(bc)-1] + '_2' for bc in barcodes]\n",
    "ldata2.obs.index = barcodes\n",
    "\n",
    "barcodes = [bc.split(':')[1] for bc in ldata3.obs.index.tolist()]\n",
    "barcodes = [bc[0:len(bc)-1] + '_3' for bc in barcodes]\n",
    "ldata3.obs.index = barcodes\n",
    "\n",
    "barcodes = [bc.split(':')[1] for bc in ldata4.obs.index.tolist()]\n",
    "barcodes = [bc[0:len(bc)-1] + '_4' for bc in barcodes]\n",
    "ldata4.obs.index = barcodes\n",
    "\n",
    "barcodes = [bc.split(':')[1] for bc in ldata5.obs.index.tolist()]\n",
    "barcodes = [bc[0:len(bc)-1] + '_5' for bc in barcodes]\n",
    "ldata5.obs.index = barcodes\n",
    "\n",
    "barcodes = [bc.split(':')[1] for bc in ldata6.obs.index.tolist()]\n",
    "barcodes = [bc[0:len(bc)-1] + '_6' for bc in barcodes]\n",
    "ldata6.obs.index = barcodes\n",
    "\n",
    "barcodes = [bc.split(':')[1] for bc in ldata7.obs.index.tolist()]\n",
    "barcodes = [bc[0:len(bc)-1] + '_7' for bc in barcodes]\n",
    "ldata7.obs.index = barcodes\n",
    "\n",
    "barcodes = [bc.split(':')[1] for bc in ldata8.obs.index.tolist()]\n",
    "barcodes = [bc[0:len(bc)-1] + '_8' for bc in barcodes]\n",
    "ldata8.obs.index = barcodes"
   ]
  },
  {
   "cell_type": "code",
   "execution_count": null,
   "id": "4f48f825",
   "metadata": {},
   "outputs": [],
   "source": [
    "# make variable names unique\n",
    "ldata1.var_names_make_unique()\n",
    "ldata2.var_names_make_unique()\n",
    "ldata3.var_names_make_unique()\n",
    "ldata4.var_names_make_unique()\n",
    "ldata5.var_names_make_unique()\n",
    "ldata6.var_names_make_unique()\n",
    "ldata7.var_names_make_unique()\n",
    "ldata8.var_names_make_unique()\n",
    "\n",
    "# concatenate the three loom\n",
    "ldata = ldata1.concatenate([ldata2, ldata3, ldata4, ldata5, ldata6, ldata7, ldata8])\n"
   ]
  },
  {
   "cell_type": "code",
   "execution_count": null,
   "id": "c7c52d7f",
   "metadata": {},
   "outputs": [],
   "source": [
    "ldata"
   ]
  },
  {
   "cell_type": "code",
   "execution_count": null,
   "id": "16d44436",
   "metadata": {},
   "outputs": [],
   "source": [
    "scv.pp.remove_duplicate_cells(ldata)"
   ]
  },
  {
   "cell_type": "code",
   "execution_count": null,
   "id": "c7ef2283",
   "metadata": {},
   "outputs": [],
   "source": [
    "scv.utils.clean_obs_names(ldata)"
   ]
  },
  {
   "cell_type": "code",
   "execution_count": null,
   "id": "86cbc532",
   "metadata": {},
   "outputs": [],
   "source": [
    "adata2 = scv.utils.merge(adata, ldata)"
   ]
  },
  {
   "cell_type": "code",
   "execution_count": null,
   "id": "83b8f954",
   "metadata": {
    "scrolled": true
   },
   "outputs": [],
   "source": [
    "adata2"
   ]
  },
  {
   "cell_type": "code",
   "execution_count": null,
   "id": "db9672dd",
   "metadata": {},
   "outputs": [],
   "source": [
    "adata.write('./h5ad_files/Lonza_dataset/BM_query_scVelo_v2.h5ad')"
   ]
  },
  {
   "cell_type": "markdown",
   "id": "b3ee47fd",
   "metadata": {},
   "source": [
    "# Load, combine and prepare adata for scVelo analysis - option 1 (BM Lonza + JCI datasets)"
   ]
  },
  {
   "cell_type": "code",
   "execution_count": null,
   "id": "3fb81827",
   "metadata": {},
   "outputs": [],
   "source": [
    "#Read your data file (loom, h5ad, csv, …) using:\n",
    "\n",
    "adata = scv.read('./h5ad_files/Merged_dataset/BM_merged_query_pseudotime.h5ad', cache=True) # use the adata file after running DPT and PAGA"
   ]
  },
  {
   "cell_type": "code",
   "execution_count": null,
   "id": "fb0c74f8",
   "metadata": {},
   "outputs": [],
   "source": [
    "adata"
   ]
  },
  {
   "cell_type": "code",
   "execution_count": null,
   "id": "25255487",
   "metadata": {},
   "outputs": [],
   "source": [
    "# load and combine .loom files\n",
    "\n",
    "files = ['./loom_files/HD_BM1.1.loom', './loom_files/HD_BM1.2.loom', './loom_files/HD_BM2.1.loom', './loom_files/HD_BM2.2.loom', './loom_files/HD_BM3.1.loom', './loom_files/HD_BM3.2.loom', './loom_files/HD_BM4.1.loom', './loom_files/HD_BM4.2.loom', './loom_files/HD_BM9.loom', './loom_files/HD_BM10.loom', './loom_files/HD_BM11.loom', './loom_files/HD_BM12.loom', './loom_files/HD_BM13.loom', './loom_files/HD_BM14.loom', './loom_files/HD_BM15.loom', './loom_files/HD_BM16.loom', './loom_files/HD_BM17.loom', './loom_files/HD_BM18.loom', './loom_files/HD_BM19.loom', './loom_files/HD_BM20.loom', './loom_files/HD_BM21.loom', './loom_files/HD_BM22.loom', './loom_files/HD_BM23.loom', './loom_files/HD_BM24.loom', './loom_files/HD_BM25.loom', './loom_files/HD_BM26.loom', './loom_files/HD_BM27.loom', './loom_files/HD_BM28.loom', './loom_files/HD_BM29.loom', './loom_files/HD_BM30.loom', './loom_files/HD_BM31.loom', './loom_files/HD_BM32.loom', './loom_files/HD_BM33.loom']\n"
   ]
  },
  {
   "cell_type": "code",
   "execution_count": null,
   "id": "60bcbef2",
   "metadata": {
    "scrolled": true
   },
   "outputs": [],
   "source": [
    "import loompy\n",
    "loompy.combine(files = files, output_file = './loom_files/Merged_dataset.loom', key=\"Accession\")"
   ]
  },
  {
   "cell_type": "code",
   "execution_count": null,
   "id": "f26349a6",
   "metadata": {},
   "outputs": [],
   "source": [
    "#load combined loom file\n",
    "Merged_dataset = scv.read('./loom_files/Merged_dataset.loom', cache=True)"
   ]
  },
  {
   "cell_type": "code",
   "execution_count": null,
   "id": "e8634bdd",
   "metadata": {
    "scrolled": true
   },
   "outputs": [],
   "source": [
    "Merged_dataset"
   ]
  },
  {
   "cell_type": "code",
   "execution_count": null,
   "id": "89077de2",
   "metadata": {},
   "outputs": [],
   "source": [
    "scv.pp.remove_duplicate_cells(Merged_dataset)\n",
    "Merged_dataset.var_names_make_unique()"
   ]
  },
  {
   "cell_type": "code",
   "execution_count": null,
   "id": "baf5f7e9",
   "metadata": {},
   "outputs": [],
   "source": [
    "Merged_dataset"
   ]
  },
  {
   "cell_type": "code",
   "execution_count": null,
   "id": "e205e8ef",
   "metadata": {},
   "outputs": [],
   "source": [
    "scv.utils.clean_obs_names(adata)\n",
    "scv.utils.clean_obs_names(Merged_dataset)"
   ]
  },
  {
   "cell_type": "code",
   "execution_count": null,
   "id": "c5f52bf8",
   "metadata": {},
   "outputs": [],
   "source": [
    "adata"
   ]
  },
  {
   "cell_type": "code",
   "execution_count": null,
   "id": "1e427c11",
   "metadata": {},
   "outputs": [],
   "source": [
    "Merged_dataset"
   ]
  },
  {
   "cell_type": "code",
   "execution_count": null,
   "id": "213945df",
   "metadata": {},
   "outputs": [],
   "source": [
    "#see discussions on github: https://github.com/theislab/scvelo/issues/989\n",
    "adata2 = scv.utils.merge(adata, Merged_dataset)"
   ]
  },
  {
   "cell_type": "code",
   "execution_count": null,
   "id": "bb437416",
   "metadata": {},
   "outputs": [],
   "source": [
    "adata2"
   ]
  },
  {
   "cell_type": "code",
   "execution_count": null,
   "id": "897dfc9f",
   "metadata": {},
   "outputs": [],
   "source": [
    "sc.pl.umap(adata, color=\"sample_id\")"
   ]
  },
  {
   "cell_type": "code",
   "execution_count": null,
   "id": "fdfab72c",
   "metadata": {},
   "outputs": [],
   "source": [
    "adata.obs['orig.ident']"
   ]
  },
  {
   "cell_type": "code",
   "execution_count": null,
   "id": "55400192",
   "metadata": {},
   "outputs": [],
   "source": [
    "adata2.write('./h5ad_files/Merged_dataset/BM_merged_query_scVelo.h5ad')"
   ]
  },
  {
   "cell_type": "code",
   "execution_count": null,
   "id": "a653477b",
   "metadata": {},
   "outputs": [],
   "source": [
    "adata2 = scv.read('./h5ad_files/Merged_dataset/BM_merged_query_scVelo.h5ad', cache=True)"
   ]
  },
  {
   "cell_type": "markdown",
   "id": "00be5d44",
   "metadata": {},
   "source": [
    "# Load, combine and prepare adata for scVelo analysis - option 2"
   ]
  },
  {
   "cell_type": "code",
   "execution_count": null,
   "id": "c86c66cd",
   "metadata": {},
   "outputs": [],
   "source": [
    "# load loom files for spliced/unspliced matrices for each sample:\n",
    "ldata1 = scv.read('./loom_files/HD_BM1.1.loom', cache=True)\n",
    "ldata2 = scv.read('./loom_files/HD_BM1.2.loom', cache=True)\n",
    "ldata3 = scv.read('./loom_files/HD_BM2.1.loom', cache=True)\n",
    "ldata4 = scv.read('./loom_files/HD_BM2.2.loom', cache=True)\n",
    "ldata5 = scv.read('./loom_files/HD_BM3.1.loom', cache=True)\n",
    "ldata6 = scv.read('./loom_files/HD_BM3.2.loom', cache=True)\n",
    "ldata7 = scv.read('./loom_files/HD_BM4.1.loom', cache=True)\n",
    "ldata8 = scv.read('./loom_files/HD_BM4.2.loom', cache=True)\n",
    "ldata9 = scv.read('./loom_files/HD_BM9.loom', cache=True)\n",
    "ldata10 = scv.read('./loom_files/HD_BM10.loom', cache=True)\n",
    "ldata11 = scv.read('./loom_files/HD_BM11.loom', cache=True)\n",
    "ldata12 = scv.read('./loom_files/HD_BM12.loom', cache=True)\n",
    "ldata13 = scv.read('./loom_files/HD_BM13.loom', cache=True)\n",
    "ldata14 = scv.read('./loom_files/HD_BM14.loom', cache=True)\n",
    "ldata15 = scv.read('./loom_files/HD_BM15.loom', cache=True)\n",
    "ldata16 = scv.read('./loom_files/HD_BM16.loom', cache=True)\n",
    "ldata17 = scv.read('./loom_files/HD_BM17.loom', cache=True)\n",
    "ldata18 = scv.read('./loom_files/HD_BM18.loom', cache=True)\n",
    "ldata19 = scv.read('./loom_files/HD_BM19.loom', cache=True)\n",
    "ldata20= scv.read('./loom_files/HD_BM20.loom', cache=True)\n",
    "ldata21 = scv.read('./loom_files/HD_BM21.loom', cache=True)\n",
    "ldata22 = scv.read('./loom_files/HD_BM22.loom', cache=True)\n",
    "ldata23 = scv.read('./loom_files/HD_BM23.loom', cache=True)\n",
    "ldata24 = scv.read('./loom_files/HD_BM24.loom', cache=True)\n",
    "ldata25 = scv.read('./loom_files/HD_BM25.loom', cache=True)\n",
    "ldata26 = scv.read('./loom_files/HD_BM26.loom', cache=True)\n",
    "ldata27 = scv.read('./loom_files/HD_BM27.loom', cache=True)\n",
    "ldata28 = scv.read('./loom_files/HD_BM28.loom', cache=True)\n",
    "ldata29 = scv.read('./loom_files/HD_BM29.loom', cache=True)\n",
    "ldata30 = scv.read('./loom_files/HD_BM30.loom', cache=True)\n",
    "ldata31 = scv.read('./loom_files/HD_BM31.loom', cache=True)\n",
    "ldata32 = scv.read('./loom_files/HD_BM32.loom', cache=True)\n",
    "ldata33 = scv.read('./loom_files/HD_BM33.loom', cache=True)\n"
   ]
  },
  {
   "cell_type": "code",
   "execution_count": null,
   "id": "338f8323",
   "metadata": {},
   "outputs": [],
   "source": [
    "#barcodes = [bc.split(':')[1] for bc in ldata1.obs.index.tolist()]"
   ]
  },
  {
   "cell_type": "code",
   "execution_count": null,
   "id": "4d72a75c",
   "metadata": {},
   "outputs": [],
   "source": [
    "#barcodes = [bc[0:len(bc)-1] for bc in barcodes]"
   ]
  },
  {
   "cell_type": "code",
   "execution_count": null,
   "id": "e6989815",
   "metadata": {},
   "outputs": [],
   "source": [
    "#barcodes = ['HD_BM1.1_' + bc for bc in barcodes]"
   ]
  },
  {
   "cell_type": "code",
   "execution_count": null,
   "id": "a01e95c9",
   "metadata": {},
   "outputs": [],
   "source": [
    "# rename barcodes in order to merge:\n",
    "barcodes = [bc.split(':')[1] for bc in ldata1.obs.index.tolist()]\n",
    "barcodes = [bc[0:len(bc)-1] for bc in barcodes]\n",
    "barcodes = ['HD_BM1.1_' + bc for bc in barcodes]\n",
    "ldata1.obs.index = barcodes\n",
    "\n",
    "barcodes = [bc.split(':')[1] for bc in ldata2.obs.index.tolist()]\n",
    "barcodes = [bc[0:len(bc)-1] for bc in barcodes]\n",
    "barcodes = ['HD_BM1.2_' + bc for bc in barcodes]\n",
    "ldata2.obs.index = barcodes\n",
    "\n",
    "barcodes = [bc.split(':')[1] for bc in ldata3.obs.index.tolist()]\n",
    "barcodes = [bc[0:len(bc)-1] for bc in barcodes]\n",
    "barcodes = ['HD_BM2.1_' + bc for bc in barcodes]\n",
    "ldata3.obs.index = barcodes\n",
    "\n",
    "barcodes = [bc.split(':')[1] for bc in ldata4.obs.index.tolist()]\n",
    "barcodes = [bc[0:len(bc)-1] for bc in barcodes]\n",
    "barcodes = ['HD_BM2.2_' + bc for bc in barcodes]\n",
    "ldata4.obs.index = barcodes\n",
    "\n",
    "barcodes = [bc.split(':')[1] for bc in ldata5.obs.index.tolist()]\n",
    "barcodes = [bc[0:len(bc)-1] for bc in barcodes]\n",
    "barcodes = ['HD_BM3.1_' + bc for bc in barcodes]\n",
    "ldata5.obs.index = barcodes\n",
    "\n",
    "barcodes = [bc.split(':')[1] for bc in ldata6.obs.index.tolist()]\n",
    "barcodes = [bc[0:len(bc)-1] for bc in barcodes]\n",
    "barcodes = ['HD_BM3.2_' + bc for bc in barcodes]\n",
    "ldata6.obs.index = barcodes\n",
    "\n",
    "barcodes = [bc.split(':')[1] for bc in ldata7.obs.index.tolist()]\n",
    "barcodes = [bc[0:len(bc)-1] for bc in barcodes]\n",
    "barcodes = ['HD_BM4.1_' + bc for bc in barcodes]\n",
    "ldata7.obs.index = barcodes\n",
    "\n",
    "barcodes = [bc.split(':')[1] for bc in ldata8.obs.index.tolist()]\n",
    "barcodes = [bc[0:len(bc)-1] for bc in barcodes]\n",
    "barcodes = ['HD_BM4.2_' + bc for bc in barcodes]\n",
    "ldata8.obs.index = barcodes\n",
    "\n",
    "barcodes = [bc.split(':')[1] for bc in ldata9.obs.index.tolist()]\n",
    "barcodes = [bc[0:len(bc)-1] for bc in barcodes]\n",
    "barcodes = ['HD_BM9_' + bc for bc in barcodes]\n",
    "ldata9.obs.index = barcodes\n",
    "\n",
    "barcodes = [bc.split(':')[1] for bc in ldata10.obs.index.tolist()]\n",
    "barcodes = [bc[0:len(bc)-1] for bc in barcodes]\n",
    "barcodes = ['HD_BM10_' + bc for bc in barcodes]\n",
    "ldata10.obs.index = barcodes\n",
    "\n",
    "barcodes = [bc.split(':')[1] for bc in ldata11.obs.index.tolist()]\n",
    "barcodes = [bc[0:len(bc)-1] for bc in barcodes]\n",
    "barcodes = ['HD_BM11_' + bc for bc in barcodes]\n",
    "ldata11.obs.index = barcodes\n",
    "\n",
    "barcodes = [bc.split(':')[1] for bc in ldata12.obs.index.tolist()]\n",
    "barcodes = [bc[0:len(bc)-1] for bc in barcodes]\n",
    "barcodes = ['HD_BM12_' + bc for bc in barcodes]\n",
    "ldata12.obs.index = barcodes\n",
    "\n",
    "barcodes = [bc.split(':')[1] for bc in ldata13.obs.index.tolist()]\n",
    "barcodes = [bc[0:len(bc)-1] for bc in barcodes]\n",
    "barcodes = ['HD_BM13_' + bc for bc in barcodes]\n",
    "ldata13.obs.index = barcodes\n",
    "\n",
    "barcodes = [bc.split(':')[1] for bc in ldata14.obs.index.tolist()]\n",
    "barcodes = [bc[0:len(bc)-1] for bc in barcodes]\n",
    "barcodes = ['HD_BM14_' + bc for bc in barcodes]\n",
    "ldata14.obs.index = barcodes\n",
    "\n",
    "barcodes = [bc.split(':')[1] for bc in ldata15.obs.index.tolist()]\n",
    "barcodes = [bc[0:len(bc)-1] for bc in barcodes]\n",
    "barcodes = ['HD_BM15_' + bc for bc in barcodes]\n",
    "ldata15.obs.index = barcodes\n",
    "\n",
    "barcodes = [bc.split(':')[1] for bc in ldata16.obs.index.tolist()]\n",
    "barcodes = [bc[0:len(bc)-1] for bc in barcodes]\n",
    "barcodes = ['HD_BM16_' + bc for bc in barcodes]\n",
    "ldata16.obs.index = barcodes\n",
    "\n",
    "barcodes = [bc.split(':')[1] for bc in ldata17.obs.index.tolist()]\n",
    "barcodes = [bc[0:len(bc)-1] for bc in barcodes]\n",
    "barcodes = ['HD_BM17_' + bc for bc in barcodes]\n",
    "ldata17.obs.index = barcodes\n",
    "\n",
    "barcodes = [bc.split(':')[1] for bc in ldata18.obs.index.tolist()]\n",
    "barcodes = [bc[0:len(bc)-1] for bc in barcodes]\n",
    "barcodes = ['HD_BM18_' + bc for bc in barcodes]\n",
    "ldata18.obs.index = barcodes\n",
    "\n",
    "barcodes = [bc.split(':')[1] for bc in ldata19.obs.index.tolist()]\n",
    "barcodes = [bc[0:len(bc)-1] for bc in barcodes]\n",
    "barcodes = ['HD_BM19_' + bc for bc in barcodes]\n",
    "ldata19.obs.index = barcodes\n",
    "\n",
    "barcodes = [bc.split(':')[1] for bc in ldata20.obs.index.tolist()]\n",
    "barcodes = [bc[0:len(bc)-1] for bc in barcodes]\n",
    "barcodes = ['HD_BM20_' + bc for bc in barcodes]\n",
    "ldata20.obs.index = barcodes\n",
    "\n",
    "barcodes = [bc.split(':')[1] for bc in ldata21.obs.index.tolist()]\n",
    "barcodes = [bc[0:len(bc)-1] for bc in barcodes]\n",
    "barcodes = ['HD_BM21_' + bc for bc in barcodes]\n",
    "ldata21.obs.index = barcodes\n",
    "\n",
    "barcodes = [bc.split(':')[1] for bc in ldata22.obs.index.tolist()]\n",
    "barcodes = [bc[0:len(bc)-1] for bc in barcodes]\n",
    "barcodes = ['HD_BM22_' + bc for bc in barcodes]\n",
    "ldata22.obs.index = barcodes\n",
    "\n",
    "barcodes = [bc.split(':')[1] for bc in ldata23.obs.index.tolist()]\n",
    "barcodes = [bc[0:len(bc)-1] for bc in barcodes]\n",
    "barcodes = ['HD_BM23_' + bc for bc in barcodes]\n",
    "ldata23.obs.index = barcodes\n",
    "\n",
    "barcodes = [bc.split(':')[1] for bc in ldata24.obs.index.tolist()]\n",
    "barcodes = [bc[0:len(bc)-1] for bc in barcodes]\n",
    "barcodes = ['HD_BM24_' + bc for bc in barcodes]\n",
    "ldata24.obs.index = barcodes\n",
    "\n",
    "barcodes = [bc.split(':')[1] for bc in ldata25.obs.index.tolist()]\n",
    "barcodes = [bc[0:len(bc)-1] for bc in barcodes]\n",
    "barcodes = ['HD_BM25_' + bc for bc in barcodes]\n",
    "ldata25.obs.index = barcodes\n",
    "\n",
    "barcodes = [bc.split(':')[1] for bc in ldata26.obs.index.tolist()]\n",
    "barcodes = [bc[0:len(bc)-1] for bc in barcodes]\n",
    "barcodes = ['HD_BM26_' + bc for bc in barcodes]\n",
    "ldata26.obs.index = barcodes\n",
    "\n",
    "barcodes = [bc.split(':')[1] for bc in ldata27.obs.index.tolist()]\n",
    "barcodes = [bc[0:len(bc)-1] for bc in barcodes]\n",
    "barcodes = ['HD_BM27_' + bc for bc in barcodes]\n",
    "ldata27.obs.index = barcodes\n",
    "\n",
    "barcodes = [bc.split(':')[1] for bc in ldata28.obs.index.tolist()]\n",
    "barcodes = [bc[0:len(bc)-1] for bc in barcodes]\n",
    "barcodes = ['HD_BM28_' + bc for bc in barcodes]\n",
    "ldata28.obs.index = barcodes\n",
    "\n",
    "barcodes = [bc.split(':')[1] for bc in ldata29.obs.index.tolist()]\n",
    "barcodes = [bc[0:len(bc)-1] for bc in barcodes]\n",
    "barcodes = ['HD_BM29_' + bc for bc in barcodes]\n",
    "ldata29.obs.index = barcodes\n",
    "\n",
    "barcodes = [bc.split(':')[1] for bc in ldata30.obs.index.tolist()]\n",
    "barcodes = [bc[0:len(bc)-1] for bc in barcodes]\n",
    "barcodes = ['HD_BM30_' + bc for bc in barcodes]\n",
    "ldata30.obs.index = barcodes\n",
    "\n",
    "barcodes = [bc.split(':')[1] for bc in ldata31.obs.index.tolist()]\n",
    "barcodes = [bc[0:len(bc)-1] for bc in barcodes]\n",
    "barcodes = ['HD_BM31_' + bc for bc in barcodes]\n",
    "ldata31.obs.index = barcodes\n",
    "\n",
    "barcodes = [bc.split(':')[1] for bc in ldata32.obs.index.tolist()]\n",
    "barcodes = [bc[0:len(bc)-1] for bc in barcodes]\n",
    "barcodes = ['HD_BM32_' + bc for bc in barcodes]\n",
    "ldata32.obs.index = barcodes\n",
    "\n",
    "barcodes = [bc.split(':')[1] for bc in ldata33.obs.index.tolist()]\n",
    "barcodes = [bc[0:len(bc)-1] for bc in barcodes]\n",
    "barcodes = ['HD_BM33_' + bc for bc in barcodes]\n",
    "ldata33.obs.index = barcodes\n",
    "\n",
    "\n"
   ]
  },
  {
   "cell_type": "code",
   "execution_count": null,
   "id": "45e4eaa8",
   "metadata": {},
   "outputs": [],
   "source": [
    "# make variable names unique\n",
    "ldata1.var_names_make_unique()\n",
    "ldata2.var_names_make_unique()\n",
    "ldata3.var_names_make_unique()\n",
    "ldata4.var_names_make_unique()\n",
    "ldata5.var_names_make_unique()\n",
    "ldata6.var_names_make_unique()\n",
    "ldata7.var_names_make_unique()\n",
    "ldata8.var_names_make_unique()\n",
    "ldata9.var_names_make_unique()\n",
    "ldata10.var_names_make_unique()\n",
    "ldata11.var_names_make_unique()\n",
    "ldata12.var_names_make_unique()\n",
    "ldata13.var_names_make_unique()\n",
    "ldata14.var_names_make_unique()\n",
    "ldata15.var_names_make_unique()\n",
    "ldata16.var_names_make_unique()\n",
    "ldata17.var_names_make_unique()\n",
    "ldata18.var_names_make_unique()\n",
    "ldata19.var_names_make_unique()\n",
    "ldata20.var_names_make_unique()\n",
    "ldata21.var_names_make_unique()\n",
    "ldata22.var_names_make_unique()\n",
    "ldata23.var_names_make_unique()\n",
    "ldata24.var_names_make_unique()\n",
    "ldata25.var_names_make_unique()\n",
    "ldata26.var_names_make_unique()\n",
    "ldata27.var_names_make_unique()\n",
    "ldata28.var_names_make_unique()\n",
    "ldata29.var_names_make_unique()\n",
    "ldata30.var_names_make_unique()\n",
    "ldata31.var_names_make_unique()\n",
    "ldata32.var_names_make_unique()\n",
    "ldata33.var_names_make_unique()\n"
   ]
  },
  {
   "cell_type": "code",
   "execution_count": null,
   "id": "fb3b5db0",
   "metadata": {},
   "outputs": [],
   "source": [
    "# concatenate the three loom\n",
    "ldata = ldata1.concatenate([ldata2, ldata3, ldata4, ldata5, ldata6, ldata7, ldata8, ldata9, ldata10, ldata11, ldata12, ldata13, ldata14, ldata15, ldata16, ldata17, ldata18, ldata19, ldata20, ldata21, ldata22, ldata23, ldata24, ldata25, ldata26, ldata27, ldata28, ldata29, ldata30, ldata31, ldata32, ldata33])"
   ]
  },
  {
   "cell_type": "code",
   "execution_count": null,
   "id": "8d11474a",
   "metadata": {},
   "outputs": [],
   "source": [
    "scv.pp.remove_duplicate_cells(ldata)"
   ]
  },
  {
   "cell_type": "code",
   "execution_count": null,
   "id": "5522bf79",
   "metadata": {},
   "outputs": [],
   "source": [
    "scv.utils.clean_obs_names(ldata)"
   ]
  },
  {
   "cell_type": "code",
   "execution_count": null,
   "id": "8114174e",
   "metadata": {
    "scrolled": true
   },
   "outputs": [],
   "source": [
    "ldata"
   ]
  },
  {
   "cell_type": "code",
   "execution_count": null,
   "id": "960451b1",
   "metadata": {
    "scrolled": true
   },
   "outputs": [],
   "source": [
    "ldata.obs"
   ]
  },
  {
   "cell_type": "code",
   "execution_count": null,
   "id": "1fe1f19d",
   "metadata": {},
   "outputs": [],
   "source": [
    "ldata.write('./loom_files/Merged_dataset.loom')"
   ]
  },
  {
   "cell_type": "code",
   "execution_count": null,
   "id": "cb2f9b83-8def-4178-adc1-6f55ec1530db",
   "metadata": {},
   "outputs": [],
   "source": [
    "ldata = scv.read('./loom_files/Merged_dataset.loom', cache=True)"
   ]
  },
  {
   "cell_type": "code",
   "execution_count": null,
   "id": "e5ca52ab",
   "metadata": {},
   "outputs": [],
   "source": [
    "scv.utils.clean_obs_names(adata)"
   ]
  },
  {
   "cell_type": "code",
   "execution_count": null,
   "id": "8b678b15",
   "metadata": {},
   "outputs": [],
   "source": [
    "adata"
   ]
  },
  {
   "cell_type": "code",
   "execution_count": null,
   "id": "ecb84786",
   "metadata": {},
   "outputs": [],
   "source": [
    "adata.obs"
   ]
  },
  {
   "cell_type": "code",
   "execution_count": null,
   "id": "e79f0cc5",
   "metadata": {},
   "outputs": [],
   "source": [
    "adata2 = scv.utils.merge(adata, ldata)"
   ]
  },
  {
   "cell_type": "code",
   "execution_count": null,
   "id": "2c431fde",
   "metadata": {},
   "outputs": [],
   "source": [
    "adata2"
   ]
  },
  {
   "cell_type": "code",
   "execution_count": null,
   "id": "d0577892",
   "metadata": {},
   "outputs": [],
   "source": [
    "adata2.obs"
   ]
  },
  {
   "cell_type": "code",
   "execution_count": null,
   "id": "0ab497c6",
   "metadata": {},
   "outputs": [],
   "source": [
    "adata2.write('./h5ad_files/Merged_dataset/BM_merged_query_scVelo.h5ad')"
   ]
  },
  {
   "cell_type": "code",
   "execution_count": null,
   "id": "1e8f96b9",
   "metadata": {},
   "outputs": [],
   "source": [
    "adata2 = scv.read('./h5ad_files/Merged_dataset/BM_merged_query_scVelo.h5ad', cache=True)"
   ]
  },
  {
   "cell_type": "markdown",
   "id": "016eb1ff",
   "metadata": {},
   "source": [
    "# 1- Preprocessing"
   ]
  },
  {
   "cell_type": "code",
   "execution_count": null,
   "id": "9c2c2a40",
   "metadata": {},
   "outputs": [],
   "source": [
    "# As a first step, we filter out genes that are not sufficiently expressed both unspliced and spliced RNA (here, at least 20). \n",
    "# Following, the cell size is normalized for both unspliced and spliced RNA, and counts in adata.X log1p transformed to reduce the effect of outliers. \n",
    "# Next, we also identify and filter for highly variable genes (here 5000).\n",
    "\n",
    "scv.pp.filter_and_normalize(adata2, min_shared_counts=20, n_top_genes= 8000)\n"
   ]
  },
  {
   "cell_type": "code",
   "execution_count": null,
   "id": "48e3a986",
   "metadata": {
    "scrolled": true
   },
   "outputs": [],
   "source": [
    "adata2"
   ]
  },
  {
   "cell_type": "code",
   "execution_count": null,
   "id": "79f2b1e1",
   "metadata": {},
   "outputs": [],
   "source": [
    "# In the case of RNA velocity, we additionally smooth observations by the mean expression in their neighborhood. This can be done using scVelo’s moments function.\n",
    "#sc.tl.pca(adata2)\n",
    "\n",
    "# Further preprocessing (such as batch effect correction) may be used to remove unwanted sources of variability. See the best practices for further details. \n",
    "# Note, that any additional preprocessing step only affects X and is not applied to spliced/unspliced counts.\n",
    "\n",
    "sc.pp.neighbors(adata2, use_rep='X_harmony') # the results with harmony look better\n",
    "scv.pp.moments(adata2, n_pcs=0, n_neighbors=None) # lower n_neighs seems to give better results"
   ]
  },
  {
   "cell_type": "code",
   "execution_count": null,
   "id": "d90feeb6",
   "metadata": {},
   "outputs": [],
   "source": [
    "adata2"
   ]
  },
  {
   "cell_type": "markdown",
   "id": "3b7a34c1",
   "metadata": {},
   "source": [
    "# 2- RNA velocity inference - EM model"
   ]
  },
  {
   "cell_type": "markdown",
   "id": "3255599c-eed6-4af9-abf7-a32ac7be8969",
   "metadata": {},
   "source": [
    "Velocities are vectors in gene expression space and represent the direction and speed of movement of the individual cells. The velocities are obtained by modeling transcriptional dynamics of splicing kinetics, either stochastically (default) or deterministically (by setting mode='deterministic'). For each gene, a steady-state-ratio of pre-mature (unspliced) and mature (spliced) mRNA counts is fitted, which constitutes a constant transcriptional state. Velocities are then obtained as residuals from this ratio. Positive velocity indicates that a gene is up-regulated, which occurs for cells that show higher abundance of unspliced mRNA for that gene than expected in steady state. Conversely, negative velocity indicates that a gene is down-regulated.\n",
    "\n",
    "The deterministic model is solved in a likelihood-based expectation-maximization framework, by iteratively estimating the parameters of reaction rates and latent cell-specific variables, i.e. transcriptional state and cell-internal latent time. It thereby aims to learn the unspliced/spliced phase trajectory for each gene."
   ]
  },
  {
   "cell_type": "code",
   "execution_count": null,
   "id": "02b67bf7",
   "metadata": {},
   "outputs": [],
   "source": [
    "# In order to calculate RNA velocity with the EM model, the parameters of splicing kinetics need to be infered first. \n",
    "# The inference is taken care of by scVelo’s recover_dynamics function.\n",
    "scv.tl.recover_dynamics(adata2, n_jobs=8)"
   ]
  },
  {
   "cell_type": "markdown",
   "id": "0612e195-6898-432a-855b-a165e365a793",
   "metadata": {},
   "source": [
    "The computed velocities are stored in adata.layers just like the count matrices."
   ]
  },
  {
   "cell_type": "code",
   "execution_count": null,
   "id": "45882ee9",
   "metadata": {},
   "outputs": [],
   "source": [
    "# calculate both velocity and the projection onto our two-dimensional UMAP embedding.\n",
    "scv.tl.velocity(adata2, mode=\"dynamical\")"
   ]
  },
  {
   "cell_type": "markdown",
   "id": "6fb1a5f3-98f5-4190-8569-ffd37010fd4c",
   "metadata": {},
   "source": [
    "The combination of velocities across genes can then be used to estimate the future state of an individual cell. In order to project the velocities into a lower-dimensional embedding, transition probabilities of cell-to-cell transitions are estimated. That is, for each velocity vector we find the likely cell transitions that are accordance with that direction. The transition probabilities are computed using cosine correlation between the potential cell-to-cell transitions and the velocity vector, and are stored in a matrix denoted as velocity graph. The resulting velocity graph has dimension 𝑛𝑜𝑏𝑠×𝑛𝑜𝑏𝑠 and summarizes the possible cell state changes that are well explained through the velocity vectors (for runtime speedup it can also be computed on reduced PCA space by setting approx=True)."
   ]
  },
  {
   "cell_type": "code",
   "execution_count": null,
   "id": "afda0c6b",
   "metadata": {},
   "outputs": [],
   "source": [
    "scv.tl.velocity_graph(adata2, n_jobs=8)"
   ]
  },
  {
   "cell_type": "markdown",
   "id": "063855ea-c630-4402-93d0-0791fd41bb5c",
   "metadata": {},
   "source": [
    "# 2.1- Kinetic rate paramters"
   ]
  },
  {
   "cell_type": "markdown",
   "id": "2c098d23-784e-4912-9767-768f84818b2e",
   "metadata": {},
   "source": [
    "The rates of RNA transcription, splicing and degradation are estimated without the need of any experimental data.\n",
    "\n",
    "They can be useful to better understand the cell identity and phenotypic heterogeneity.\n",
    "\n",
    "The estimated gene-specific parameters comprise rates of transription (fit_alpha), splicing (fit_beta), degradation (fit_gamma), switching time point (fit_t_), a scaling parameter to adjust for under-represented unspliced reads (fit_scaling), standard deviation of unspliced and spliced reads (fit_std_u, fit_std_s), the gene likelihood (fit_likelihood), inferred steady-state levels (fit_steady_u, fit_steady_s) with their corresponding p-values (fit_pval_steady_u, fit_pval_steady_s), the overall model variance (fit_variance), and a scaling factor to align the gene-wise latent times to a universal, gene-shared latent time (fit_alignment_scaling)."
   ]
  },
  {
   "cell_type": "code",
   "execution_count": null,
   "id": "c546396e-e120-478b-89d9-47e159562546",
   "metadata": {},
   "outputs": [],
   "source": [
    "df = adata2.var\n",
    "df = df[(df['fit_likelihood'] > .1) & df['velocity_genes'] == True]\n",
    "\n",
    "kwargs = dict(xscale='log', fontsize=16)\n",
    "with scv.GridSpec(ncols=3) as pl:\n",
    "    pl.hist(df['fit_alpha'], xlabel='transcription rate', **kwargs)\n",
    "    pl.hist(df['fit_beta'] * df['fit_scaling'], xlabel='splicing rate', xticks=[.1, .4, 1], **kwargs)\n",
    "    pl.hist(df['fit_gamma'], xlabel='degradation rate', xticks=[.1, .4, 1], **kwargs)\n",
    "\n",
    "scv.get_df(adata2, 'fit*', dropna=True).head()\n"
   ]
  },
  {
   "cell_type": "markdown",
   "id": "b3c7796a-183b-4ad6-bd78-f457a9122d37",
   "metadata": {},
   "source": [
    "# 2.2- Latent time"
   ]
  },
  {
   "cell_type": "markdown",
   "id": "b7239ea5-ddf9-4a37-a80b-8ef105b76278",
   "metadata": {},
   "source": [
    "Further, we can trace cells along the Markov chain to their origins and potential fates, thereby getting root cells and end points within a trajectory.\n",
    "\n",
    "The dynamical model recovers the latent time of the underlying cellular processes. Gene-specific latent timepoints obtained from the dynamical model are coupled to a universal gene-shared latent time. This latent time represents the cell’s internal clock and approximates the real time experienced by cells as they differentiate, based only on its transcriptional dynamics. "
   ]
  },
  {
   "cell_type": "code",
   "execution_count": null,
   "id": "58d518ad-a261-4176-a97b-6c4d26546f7b",
   "metadata": {},
   "outputs": [],
   "source": [
    "# Computes a gene-shared latent time.\n",
    "scv.tl.recover_latent_time(adata2)"
   ]
  },
  {
   "cell_type": "markdown",
   "id": "70749291-6c52-4082-bf64-4086cba3b772",
   "metadata": {},
   "source": [
    "For a variety of applications, the velocity graph can be converted to a transition matrix by applying a Gaussian kernel to transform the cosine correlations into actual transition probabilities."
   ]
  },
  {
   "cell_type": "code",
   "execution_count": null,
   "id": "5a14bf03-1872-4aac-a4f7-e2923eb8b141",
   "metadata": {},
   "outputs": [],
   "source": [
    "scv.utils.get_transition_matrix"
   ]
  },
  {
   "cell_type": "markdown",
   "id": "c5a4e1b9-0912-49e1-abad-635bc6d8ae14",
   "metadata": {},
   "source": [
    "# 2.3- Interprete the velocities - Top-likelihood genes and phase portraits"
   ]
  },
  {
   "cell_type": "markdown",
   "id": "baac06a5-0ccc-432b-a16a-cff215aad591",
   "metadata": {},
   "source": [
    "Depending on the protocol used (Drop-Seq, Smart-Seq), we typically have between 10%-25% of unspliced molecules containing intronic sequences. We also advice you to examine the variations on cluster level to verify consistency in splicing efficiency."
   ]
  },
  {
   "cell_type": "code",
   "execution_count": null,
   "id": "15c987f9-6e62-46f3-b0f4-35040f3619d7",
   "metadata": {},
   "outputs": [],
   "source": [
    "scv.pl.proportions(adata2, groupby='SingleR.labels', figsize=(24, 8), fontsize=10, save = \"RNAvelo_proportions_spliced_unspliced.pdf\")\n"
   ]
  },
  {
   "cell_type": "markdown",
   "id": "e96e9343-344b-4676-8940-e818e1b2735a",
   "metadata": {},
   "source": [
    "This is perhaps the most important part as we advise the user not to limit biological conclusions to the projected velocities, but to examine individual gene dynamics via phase portraits to understand how inferred directions are supported by particular genes.\n",
    "\n",
    "See the gif here to get an idea of how to interpret a spliced vs. unspliced phase portrait. Gene activity is orchestrated by transcriptional regulation. Transcriptional induction for a particular gene results in an increase of (newly transcribed) precursor unspliced mRNAs while, conversely, repression or absence of transcription results in a decrease of unspliced mRNAs. Spliced mRNAs is produced from unspliced mRNA and follows the same trend with a time lag. Time is a hidden/latent variable. Thus, the dynamics needs to be inferred from what is actually measured: spliced and unspliced mRNAs as displayed in the phase portrait.\n",
    "\n",
    "Driver genes display pronounced dynamic behavior and are systematically detected via their characterization by high likelihoods in the dynamic model."
   ]
  },
  {
   "cell_type": "code",
   "execution_count": null,
   "id": "fbdfe481-7111-4610-927d-e9ff647dfd01",
   "metadata": {},
   "outputs": [],
   "source": [
    "print(adata2.var['velocity_genes'].sum(), adata2.n_vars)\n",
    "\n",
    "# 8000 HVG = 225 VELOCITY GENES\n",
    "# 2000 HVG = 70 VELOCITY GENES"
   ]
  },
  {
   "cell_type": "code",
   "execution_count": null,
   "id": "15d6705f-c97e-4395-bc11-081753eb00fb",
   "metadata": {},
   "outputs": [],
   "source": [
    "top_genes = adata2.var.sort_values('fit_likelihood', ascending=False).index[:20]"
   ]
  },
  {
   "cell_type": "code",
   "execution_count": null,
   "id": "01eba4ad-c695-46fd-90ba-d261320ed56a",
   "metadata": {
    "scrolled": true
   },
   "outputs": [],
   "source": [
    "top_genes"
   ]
  },
  {
   "cell_type": "code",
   "execution_count": null,
   "id": "b7703aea-ed02-4382-99bd-3e458a23d24d",
   "metadata": {
    "scrolled": true
   },
   "outputs": [],
   "source": [
    "scv.pl.scatter(adata2, basis=top_genes, frameon='artist', ncols = 5, color = 'SingleR.labels', save = \"true_top_genes_fit_likelihood_dynamic.pdf\")\n",
    "\n"
   ]
  },
  {
   "cell_type": "code",
   "execution_count": null,
   "id": "0c4eca17-5b82-48ed-9c5f-44931ebc4bf7",
   "metadata": {},
   "outputs": [],
   "source": [
    "top_genes2 = adata2.var['fit_likelihood'].sort_values(ascending=False).index[:225]\n",
    "scv.pl.heatmap(adata2, var_names=top_genes2, sortby='latent_time', col_color='SingleR.labels', n_convolve=100, figsize = (16,16), \n",
    "              save = \"Heatmap_top_genes_fit_likelihood_dynamic.png\")\n"
   ]
  },
  {
   "cell_type": "markdown",
   "id": "c6f0b302-878f-4934-8f4f-a9ebc4c51c31",
   "metadata": {},
   "source": [
    "The black line corresponds to the estimated ‘steady-state’ ratio, i.e. the ratio of unspliced to spliced mRNA abundance which is in a constant transcriptional state. RNA velocity for a particular gene is determined as the residual, i.e. how much an observation deviates from that steady-state line. Positive velocity indicates that a gene is up-regulated, which occurs for cells that show higher abundance of unspliced mRNA for that gene than expected in steady state. Conversely, negative velocity indicates that a gene is down-regulated."
   ]
  },
  {
   "cell_type": "code",
   "execution_count": null,
   "id": "56ee9efd-9691-4935-8aed-eb1f913f4f16",
   "metadata": {},
   "outputs": [],
   "source": [
    "scv.pl.velocity(adata2,['RPL41', 'RPL26', 'PF4', 'RPLP2', 'RPL38', 'IGLV3-21', 'RPS20', 'RPL34', \n",
    "                        'HBB', 'B2M', 'RPS15A', 'RPS25', 'RPL31', 'TMSB10', 'SRGN', 'LEPROTL1', 'LYN', 'RCAN3', 'BCL11B', 'PLXDC2'], \n",
    "                basis=\"X_proj.umap\", ncols=2, save = \"true_top_genes_velocity.pdf\")\n"
   ]
  },
  {
   "cell_type": "code",
   "execution_count": null,
   "id": "99fc7e5f-c9fe-45ec-b528-8bb8ba1469c8",
   "metadata": {},
   "outputs": [],
   "source": [
    "#plot top genes colored by velocity pseudo-time\n",
    "scv.pl.scatter(adata2, basis=top_genes, frameon='artist', ncols = 5, color = 'velocity_pseudotime', save = \"true_top_genes_fit_likelihood_velocity_pseudotime_dynamic.pdf\")\n"
   ]
  },
  {
   "cell_type": "code",
   "execution_count": null,
   "id": "28f4e078-433e-4caa-91fb-08007bacabf4",
   "metadata": {},
   "outputs": [],
   "source": [
    "#plot top genes colored by latent time\n",
    "scv.pl.scatter(adata2, basis=top_genes, frameon='artist', ncols = 5, color = 'latent_time', save = \"true_top_genes_fit_likelihood_velocity_pseudotime_dynamic.pdf\")\n",
    "\n"
   ]
  },
  {
   "cell_type": "markdown",
   "id": "f18efbc1-4af0-4218-a6a1-7fc03e4be898",
   "metadata": {},
   "source": [
    "# 2.4- Project the velocities"
   ]
  },
  {
   "cell_type": "code",
   "execution_count": null,
   "id": "e7553a0a",
   "metadata": {
    "scrolled": true
   },
   "outputs": [],
   "source": [
    "# https://github.com/theislab/cellrank/issues/1078\n",
    "# if does not work, use Velocyto env instead of Squidpy with pandas < 1.4\n",
    "_, ax = plt.subplots(figsize=(8, 8))\n",
    "scv.pl.velocity_embedding_stream(adata2, basis=\"X_proj.umap\", min_mass = 0, color = 'SingleR.labels', legend_loc = \"right margin\",save = \"RNAvelo_stream_proj.UMAP.pdf\", ax=ax)\n",
    "# color = 'SingleR.labels',"
   ]
  },
  {
   "cell_type": "code",
   "execution_count": null,
   "id": "af6baf97-a978-47f1-af2e-31c835fc524a",
   "metadata": {},
   "outputs": [],
   "source": [
    "#plot stream on UMAP colored by velocity pseudo-time\n",
    "_, ax = plt.subplots(figsize=(8, 8))\n",
    "scv.pl.velocity_embedding_stream(adata2, basis=\"X_proj.umap\", min_mass = 0, color = 'velocity_pseudotime', legend_loc = \"right margin\",save = \"RNAvelo_stream_velocity_pseudotime.pdf\", ax=ax)\n"
   ]
  },
  {
   "cell_type": "code",
   "execution_count": null,
   "id": "ee47940a-3b42-4de1-b71a-cd744ca7ce1e",
   "metadata": {},
   "outputs": [],
   "source": [
    "#plot stream on UMAP colored by latent time\n",
    "_, ax = plt.subplots(figsize=(8, 8))\n",
    "scv.pl.velocity_embedding_stream(adata2, basis=\"X_proj.umap\", min_mass = 0, color = 'latent_time', legend_loc = \"right margin\",save = \"RNAvelo_stream_latent_time.pdf\", ax=ax)\n"
   ]
  },
  {
   "cell_type": "code",
   "execution_count": null,
   "id": "3aa293f4",
   "metadata": {},
   "outputs": [],
   "source": [
    "_, ax = plt.subplots(figsize=(8, 8))\n",
    "scv.pl.velocity_embedding_grid(adata2, basis='X_proj.umap', arrow_size = 2, arrow_length = 2, color = 'SingleR.labels', legend_loc = \"right margin\", save = \"RNAvelo_stream_proj.UMAP_grid.pdf\", ax=ax)"
   ]
  },
  {
   "cell_type": "code",
   "execution_count": null,
   "id": "4c6a429a-1c21-4f53-b89e-1f0e81b01d95",
   "metadata": {},
   "outputs": [],
   "source": [
    "#plot stream on UMAP colored by velocity pseudo-time\n",
    "_, ax = plt.subplots(figsize=(8, 8))\n",
    "scv.pl.velocity_embedding_grid(adata2, basis=\"X_proj.umap\", min_mass = 0, color = 'velocity_pseudotime', legend_loc = \"right margin\",save = \"RNAvelo_velocity_pseudotime_grid.pdf\", ax=ax)\n"
   ]
  },
  {
   "cell_type": "code",
   "execution_count": null,
   "id": "628c7cc2-5016-4108-9efb-3d74557118f2",
   "metadata": {
    "scrolled": true
   },
   "outputs": [],
   "source": [
    "#plot stream on UMAP colored by velocity pseudo-time\n",
    "_, ax = plt.subplots(figsize=(8, 8))\n",
    "scv.pl.velocity_embedding_grid(adata2, basis=\"X_proj.umap\", min_mass = 0, color = 'latent_time', legend_loc = \"right margin\",save = \"RNAvelo_latent_time_grid.pdf\", ax=ax)\n"
   ]
  },
  {
   "cell_type": "code",
   "execution_count": null,
   "id": "d2101d13-2cce-49ae-9eed-36b20b60e43c",
   "metadata": {},
   "outputs": [],
   "source": [
    "# https://github.com/theislab/scvelo/issues/173\n",
    "# We analysed one of our datasets today, which also includes erythroid cells. \n",
    "# Interestingly, with RNA velocity we obtain directional flows in accordance with biol. expectations in all cell types except for erythroids.\n",
    "# It turned out in our example that splicing efficiency seems to change dramatically in erythroids, decreasing the fractions of unspliced counts by half. \n",
    "# That could be a reason for 'false' signal.\n",
    "# get an indication of such with the following code:\n",
    "# would be very interesting to see whether the fractions are gradually decreasing in your erythroid progenitors.\n",
    "\n",
    "counts_s = scv.utils.sum_var(adata2.layers['spliced'])\n",
    "counts_u = scv.utils.sum_var(adata2.layers['unspliced'])\n",
    "fractions_u = counts_u / (counts_s + counts_u)\n",
    "scv.pl.scatter(adata2, color=fractions_u, smooth=True)"
   ]
  },
  {
   "cell_type": "code",
   "execution_count": null,
   "id": "48165c06",
   "metadata": {},
   "outputs": [],
   "source": [
    "scv.pl.velocity_embedding(adata2, basis='X_proj.umap')"
   ]
  },
  {
   "cell_type": "markdown",
   "id": "6b2dbedb-e979-418a-95e3-3015a38fe3c4",
   "metadata": {},
   "source": [
    "# 2.5- Identify important genes"
   ]
  },
  {
   "cell_type": "markdown",
   "id": "1f0fb167-311e-4047-aac8-4a630f4771d0",
   "metadata": {},
   "source": [
    "Partial gene likelihoods can be computed for a each cluster of cells to enable cluster-specific identification of potential drivers.\n",
    "\n",
    "We need a systematic way to identify genes that may help explain the resulting vector field and inferred lineages. To do so, we can test which genes have cluster-specific differential velocity expression, being siginificantly higher/lower compared to the remaining population. The module scv.tl.rank_velocity_genes runs a differential velocity t-test and outpus a gene ranking for each cluster. Thresholds can be set (e.g. min_corr) to restrict the test on a selection of gene candidates.\n",
    "\n",
    "This applies a differential expression test (Welch t-test with overestimated variance to be conservative) on velocity expression, to find genes in a cluster that show dynamics that is transcriptionally regulated differently compared to all other clusters (e.g. induction in that cluster and homeostasis in remaining population). "
   ]
  },
  {
   "cell_type": "code",
   "execution_count": null,
   "id": "2d826c99-ac79-4f7b-b04c-13b6689c93eb",
   "metadata": {},
   "outputs": [],
   "source": [
    "scv.tl.rank_velocity_genes(adata2, groupby='SingleR.labels', min_corr=.3)"
   ]
  },
  {
   "cell_type": "code",
   "execution_count": null,
   "id": "11856dce-3458-4385-ab3f-844ce3668a06",
   "metadata": {},
   "outputs": [],
   "source": [
    "df = pd.DataFrame(adata2.uns['rank_velocity_genes']['names'])\n",
    "df.head()"
   ]
  },
  {
   "cell_type": "code",
   "execution_count": null,
   "id": "34131a27-cba3-495b-aa7a-2e4a2ff028c4",
   "metadata": {},
   "outputs": [],
   "source": [
    "compression_opts = dict(method='zip', archive_name='Rank_velocity_genes.csv') \n",
    "df.to_csv('Rank_velocity_genes.zip', index=True, compression=compression_opts)"
   ]
  },
  {
   "cell_type": "code",
   "execution_count": null,
   "id": "9810c110-6247-4b4f-88c8-76d34b254913",
   "metadata": {},
   "outputs": [],
   "source": [
    "scv.pl.scatter(adata2, df['Erythroid_CD34+ CD71+ GlyA-'][:5], ylabel='Erythroid_CD34+ CD71+ GlyA-', color = 'SingleR.labels', frameon = False, save = \"Top_velocity_genes_erythroid_CD34CD71.pdf\")\n",
    "\n"
   ]
  },
  {
   "cell_type": "code",
   "execution_count": null,
   "id": "42954a78-6820-4c8e-b64c-2c5f77b51ca9",
   "metadata": {},
   "outputs": [],
   "source": [
    "scv.pl.scatter(adata2, df['Erythroid_CD34- CD71+ GlyA+'][:5], ylabel='Erythroid_CD34- CD71+ GlyA+', color = 'SingleR.labels', frameon = False, save = \"Top_velocity_genes_erythroid_CD71GYPA.pdf\")\n",
    "\n"
   ]
  },
  {
   "cell_type": "code",
   "execution_count": null,
   "id": "e7b037a4-92df-4153-b2ac-58a99140abd4",
   "metadata": {
    "scrolled": true
   },
   "outputs": [],
   "source": [
    "scv.pl.scatter(adata2, df['Early B cells'][:5], ylabel='Early B cells', color = 'SingleR.labels', frameon = False, save = \"Top_velocity_genes_earlyBcells.pdf\")\n"
   ]
  },
  {
   "cell_type": "code",
   "execution_count": null,
   "id": "1a9f81e5-f3f3-4607-afb6-75ffe754279f",
   "metadata": {},
   "outputs": [],
   "source": [
    "for cluster in ['Common myeloid progenitors', 'Colony Forming Unit-Granulocytes', 'Colony Forming Unit-Monocytes', 'Monocytes']:\n",
    "    scv.pl.scatter(adata2, df[cluster][:5], ylabel=cluster, frameon=False, save=str(cluster)+\".pdf\")"
   ]
  },
  {
   "cell_type": "markdown",
   "id": "26184781-d440-4d49-b5d6-e82ec9f298a3",
   "metadata": {},
   "source": [
    "# 2.6- Velocities in cycling progenitors"
   ]
  },
  {
   "cell_type": "markdown",
   "id": "15e115b8-94b0-4ae9-96ac-0ca6bcfd642d",
   "metadata": {},
   "source": [
    "The cell cycle detected by RNA velocity, is biologically affirmed by cell cycle scores (standardized scores of mean expression levels of phase marker genes)."
   ]
  },
  {
   "cell_type": "code",
   "execution_count": null,
   "id": "6e46d2ed-2ad0-4c36-904e-cc9a22e7502c",
   "metadata": {},
   "outputs": [],
   "source": [
    "scv.tl.score_genes_cell_cycle(adata2)\n",
    "scv.pl.scatter(adata2, color_gradients=['S_score', 'G2M_score'], basis=\"X_proj.umap\", smooth=True, perc=[5, 95])"
   ]
  },
  {
   "cell_type": "code",
   "execution_count": null,
   "id": "7bb03411-d586-476e-824a-45b9cb726b67",
   "metadata": {
    "scrolled": true
   },
   "outputs": [],
   "source": [
    "s_genes, g2m_genes = scv.utils.get_phase_marker_genes(adata2)\n",
    "s_genes = scv.get_df(adata2[:, s_genes], 'spearmans_score', sort_values=True).index\n",
    "g2m_genes = scv.get_df(adata2[:, g2m_genes], 'spearmans_score', sort_values=True).index\n",
    "\n",
    "kwargs = dict(frameon=False, ylabel='cell cycle genes')\n",
    "scv.pl.scatter(adata2, list(s_genes[:5]) + list(g2m_genes[:5]), **kwargs)"
   ]
  },
  {
   "cell_type": "markdown",
   "id": "b1bd85d3-8356-4ecb-bc7c-b6747a0a804e",
   "metadata": {},
   "source": [
    "# 2.7- Speed and coherence"
   ]
  },
  {
   "cell_type": "markdown",
   "id": "d7d669c7-c4c6-4af5-b193-5bd06800b065",
   "metadata": {},
   "source": [
    "The speed or rate of differentiation is given by the length of the velocity vector. - The coherence of the vector field (i.e., how a velocity vector correlates with its neighboring velocities) provides a measure of confidence.\n",
    "\n",
    "These provide insights where cells differentiate at a slower/faster pace, and where the direction is un-/determined."
   ]
  },
  {
   "cell_type": "code",
   "execution_count": null,
   "id": "3f9a4e65-672f-4605-badd-cbc1029b5bad",
   "metadata": {},
   "outputs": [],
   "source": [
    "scv.tl.velocity_confidence(adata2)\n",
    "keys = 'velocity_length', 'velocity_confidence'\n",
    "scv.pl.scatter(adata2, basis=\"X_proj.umap\", c=keys, cmap='coolwarm', perc=[5, 95], save = \"Velocity_confidence_length.pdf\")"
   ]
  },
  {
   "cell_type": "code",
   "execution_count": null,
   "id": "5502544b-890c-4552-bf0f-c4f0c66af8f4",
   "metadata": {},
   "outputs": [],
   "source": [
    "df = adata2.obs.groupby('SingleR.labels')[keys].mean().T\n",
    "df.style.background_gradient(cmap='coolwarm', axis=1)"
   ]
  },
  {
   "cell_type": "markdown",
   "id": "f390f213-2d51-4446-8571-f24ed2de781c",
   "metadata": {},
   "source": [
    "# 2.8- Velocity graph and pseudotime"
   ]
  },
  {
   "cell_type": "markdown",
   "id": "46f78c40-e8e7-4914-b045-7314f0846d7c",
   "metadata": {},
   "source": [
    "We can visualize the velocity graph to portray all velocity-inferred cell-to-cell connections/transitions. It can be confined to high-probability transitions by setting a threshold. "
   ]
  },
  {
   "cell_type": "code",
   "execution_count": null,
   "id": "50b4540d-0485-4006-b76d-a337afbdd059",
   "metadata": {},
   "outputs": [],
   "source": [
    "_, ax = plt.subplots(figsize=(8, 8))\n",
    "scv.pl.velocity_graph(adata2, threshold=.1, basis=\"X_proj.umap\", color = 'SingleR.labels', ax=ax)"
   ]
  },
  {
   "cell_type": "markdown",
   "id": "4f1d65b9-d9cc-49be-92d0-383cac3f37e3",
   "metadata": {},
   "source": [
    "Further, the graph can be used to draw descendents/anscestors coming from a specified cell."
   ]
  },
  {
   "cell_type": "code",
   "execution_count": null,
   "id": "3282d138-3bce-40cf-9c97-f06dee07501f",
   "metadata": {},
   "outputs": [],
   "source": [
    "x, y = scv.utils.get_cell_transitions(adata2, basis='X_proj.umap', starting_cell=70) #define starting cell - see pseudotime JN\n",
    "ax = scv.pl.velocity_graph(adata2, c='lightgrey', edge_width=.05, show=False)\n",
    "ax = scv.pl.scatter(adata2, x=x, y=y, s=120, c='ascending', cmap='gnuplot', ax=ax)"
   ]
  },
  {
   "cell_type": "markdown",
   "id": "d7c14632-1826-4b8a-bc3a-04dc3f79bb17",
   "metadata": {},
   "source": [
    "Finally, based on the velocity graph, a velocity pseudotime can be computed. After inferring a distribution over root cells from the graph, it measures the average number of steps it takes to reach a cell after walking along the graph starting from the root cells.\n",
    "\n",
    "Contrarily to diffusion pseudotime, it implicitly infers the root cells and is based on the directed velocity graph instead of the similarity-based diffusion kernel."
   ]
  },
  {
   "cell_type": "code",
   "execution_count": null,
   "id": "915a94e3-bee5-4513-b5d4-02bba0afe402",
   "metadata": {},
   "outputs": [],
   "source": [
    "_, ax = plt.subplots(figsize=(8, 8))\n",
    "scv.tl.velocity_pseudotime(adata2)\n",
    "scv.pl.scatter(adata2, color='velocity_pseudotime', cmap='gnuplot', basis='X_proj.umap', save = \"Velocity_pseudotime.pdf\")"
   ]
  },
  {
   "cell_type": "markdown",
   "id": "a616c301-c014-45f4-b627-aec5a9fe93d8",
   "metadata": {},
   "source": [
    "PAGA graph abstraction has benchmarked as top-performing method for trajectory inference. It provides a graph-like map of the data topology with weighted edges corresponding to the connectivity between two clusters. Here, PAGA is extended by velocity-inferred directionality."
   ]
  },
  {
   "cell_type": "code",
   "execution_count": null,
   "id": "07f5be44-09ed-4c19-ac27-237d48783782",
   "metadata": {},
   "outputs": [],
   "source": [
    "# this is needed due to a current bug - bugfix is coming soon.\n",
    "adata2.uns['neighbors']['distances'] = adata2.obsp['distances']\n",
    "adata2.uns['neighbors']['connectivities'] = adata2.obsp['connectivities']\n",
    "\n",
    "scv.tl.paga(adata2, groups='SingleR.labels')\n",
    "df = scv.get_df(adata2, 'paga/transitions_confidence', precision=2).T\n",
    "df.style.background_gradient(cmap='Blues').format('{:.2g}')\n",
    "\n",
    "# This reads from left/row to right/column"
   ]
  },
  {
   "cell_type": "code",
   "execution_count": null,
   "id": "95d023e4-6207-43f9-a0eb-29e05ebbcc1b",
   "metadata": {
    "scrolled": true
   },
   "outputs": [],
   "source": [
    "scv.pl.paga(adata2, basis='proj.umap', size=50, alpha=1, arrowsize=60, min_edge_width=3,\n",
    "            node_size_scale=3, figsize = (16,16), save = \"Velocity_PAGA.pdf\")"
   ]
  },
  {
   "cell_type": "markdown",
   "id": "b4b17b93",
   "metadata": {},
   "source": [
    "# 3- RNA velocity inference - Stochastic mode"
   ]
  },
  {
   "cell_type": "code",
   "execution_count": null,
   "id": "96cb6f60",
   "metadata": {},
   "outputs": [],
   "source": [
    "#scv.tl.velocity(adata, mode=\"deterministic\") - #skip this\n",
    "#scv.tl.velocity_graph(adata, n_jobs=8)\n",
    "#scv.pl.velocity_embedding_stream(adata, basis=\"X_proj.umap\")"
   ]
  },
  {
   "cell_type": "code",
   "execution_count": null,
   "id": "6156eaf2",
   "metadata": {},
   "outputs": [],
   "source": [
    "scv.tl.velocity(adata2, mode=\"stochastic\")"
   ]
  },
  {
   "cell_type": "code",
   "execution_count": null,
   "id": "7b73ba0e-3182-4a92-be29-759cc6abcf89",
   "metadata": {},
   "outputs": [],
   "source": [
    "scv.tl.velocity_graph(adata2, n_jobs=8)"
   ]
  },
  {
   "cell_type": "code",
   "execution_count": null,
   "id": "7bb34ffc-0473-4cfc-a68e-e05d4e4aede5",
   "metadata": {},
   "outputs": [],
   "source": [
    "_, ax = plt.subplots(figsize=(8, 8))\n",
    "scv.pl.velocity_embedding_stream(adata2, basis=\"X_proj.umap\", min_mass = 0, color = 'SingleR.labels', legend_loc = \"right margin\", save = \"RNAvelo_stream_proj.UMAP_stochastic.pdf\", ax=ax)\n",
    "# color = 'SingleR.labels',"
   ]
  },
  {
   "cell_type": "code",
   "execution_count": null,
   "id": "dc7a537d-d0ba-4446-bc5a-92b2e0fef6fa",
   "metadata": {},
   "outputs": [],
   "source": [
    "_, ax = plt.subplots(figsize=(8, 8))\n",
    "scv.pl.velocity_embedding_grid(adata2, basis='X_proj.umap', arrow_size = 2, arrow_length = 2, color = 'SingleR.labels', legend_loc = \"right margin\", save = \"RNAvelo_stream_proj.UMAP_grid_stochastic.pdf\", ax=ax)"
   ]
  },
  {
   "cell_type": "code",
   "execution_count": null,
   "id": "054f1741-504f-4d85-8d73-aea6ca89d211",
   "metadata": {},
   "outputs": [],
   "source": [
    "adata2.var"
   ]
  },
  {
   "cell_type": "code",
   "execution_count": null,
   "id": "3e09a18e-653a-486d-a22d-ba84bc4c4905",
   "metadata": {},
   "outputs": [],
   "source": [
    "# The parameters of the splicing model are inferred by maximizing a given likelihood. \n",
    "# To study which genes were fit most confidently by scVelo, we can study the corresponding phase portraits as well as the inferred trajectory (plotted in purple) and steady-state ratio (dashed purple line). \n",
    "top_genes = adata2.var[\"fit_likelihood\"].sort_values(ascending=True).index"
   ]
  },
  {
   "cell_type": "code",
   "execution_count": null,
   "id": "a1352c1d-0bc0-484c-af03-79e15cf8b96e",
   "metadata": {},
   "outputs": [],
   "source": [
    "top_genes"
   ]
  },
  {
   "cell_type": "code",
   "execution_count": null,
   "id": "277147b7-9d31-413d-b293-4b20669c3bdb",
   "metadata": {},
   "outputs": [],
   "source": [
    "scv.pl.scatter(adata2, basis=['USP9Y', 'DDX3Y', 'UTY', 'KDM5D', 'AC240274.1', \"VCAM1\", 'LYPD2',\n",
    "       'NEFL', 'CXCL10', 'IGLV3-27'], frameon='artist', ncols = 5, color = 'SingleR.labels', save = \"top_genes_fit_likelihood_stochastic.pdf\")"
   ]
  },
  {
   "cell_type": "code",
   "execution_count": null,
   "id": "be6820ae-dcc9-47db-bdd1-3b08be45f7c7",
   "metadata": {},
   "outputs": [],
   "source": [
    "scv.pl.scatter(adata2, basis=['S100P', 'LAT', 'MPP1', 'GYPA', 'CD79A', 'ITGAM', 'AHSP', 'HBM', 'UROD',\n",
    "       'IGHM'], frameon='artist', ncols = 5, color = 'SingleR.labels', save = \"bottom_genes_fit_likelihood_stochastic.pdf\")"
   ]
  },
  {
   "cell_type": "code",
   "execution_count": null,
   "id": "bd56ad29-5e3f-4490-948c-a6d723c97f2a",
   "metadata": {},
   "outputs": [],
   "source": [
    "scv.pl.scatter(adata2, basis=['GYPA', 'TFRC', 'TNFRSF4'], vkey='velocity', s=60, linewidth=1.5, frameon='artist', dpi=80)"
   ]
  },
  {
   "cell_type": "markdown",
   "id": "375e00af-838f-49fc-b81f-e4be479a4f77",
   "metadata": {},
   "source": [
    "# 4- Differential Kinetics "
   ]
  },
  {
   "cell_type": "markdown",
   "id": "fdb1bead-a896-499f-9375-1318ce337be7",
   "metadata": {},
   "source": [
    "One important concern is dealing with systems that represent multiple lineages and processes, where genes are likely to show different kinetic regimes across subpopulations. Distinct cell states and lineages are typically governed by different variations in the gene regulatory networks and may hence exhibit different splicing kinetics. This gives rise to genes that display multiple trajectories in phase space.\n",
    "\n",
    "To address this, the dynamical model can be used to perform a likelihood-ratio test for differential kinetics. This way, we can detect clusters that display kinetic behavior that cannot be well explained by a single model of the overall dynamics. Clustering cell types into their different kinetic regimes then allows fitting each regime separately.\n",
    "\n",
    "BM comprises multiple heterogeneous subpopulations."
   ]
  },
  {
   "cell_type": "markdown",
   "id": "1db4ec66-e20e-4d5e-a15e-1eff0675a1a0",
   "metadata": {},
   "source": [
    "Distinct cell types and lineages may exhibit different kinetics regimes as these can be governed by a different network structure. Even if cell types or lineages are related, kinetics can be differential due to alternative splicing, alternative polyadenylation and modulations in degradation.\n",
    "\n",
    "The dynamical model allows us to address this issue with a likelihood ratio test for differential kinetics to detect clusters/lineages that display kinetic behavior that cannot be sufficiently explained by a single model for the overall dynamics. Each cell type is tested whether an independent fit yields a significantly improved likelihood.\n",
    "\n",
    "The likelihood ratio, following an asymptotic chi-squared distribution, can be tested for significance. Note that for efficiency reasons, by default an orthogonal regression is used instead of a full phase trajectory to test whether a cluster is well explained by the overall kinetic or exhibits a different kinetic."
   ]
  },
  {
   "cell_type": "code",
   "execution_count": null,
   "id": "3eb4d0e7-3b0d-4d03-839b-c22dea687d4e",
   "metadata": {},
   "outputs": [],
   "source": [
    "# Screening through the top-likelihood genes, we find some gene-wise dynamics that display multiple kinetic regimes.\n",
    "top_genes2 = adata2.var['fit_likelihood'].sort_values(ascending=False).index[:225]\n",
    "scv.tl.differential_kinetic_test(adata2, var_names=top_genes, groupby='SingleR.labels')\n"
   ]
  },
  {
   "cell_type": "code",
   "execution_count": null,
   "id": "d93c6e8d-04e9-40ce-a781-977b58ee01e0",
   "metadata": {},
   "outputs": [],
   "source": [
    "scv.get_df(adata2[:, var_names], ['fit_diff_kinetics', 'fit_pval_kinetics'], precision=2)"
   ]
  },
  {
   "cell_type": "code",
   "execution_count": null,
   "id": "16f840e1-0513-4424-9a55-bec6fe0de839",
   "metadata": {},
   "outputs": [],
   "source": [
    "compression_opts = dict(method='zip', archive_name='Velocity_genes_diff_kinetics.csv') \n",
    "df.to_csv('Velocity_genes_diff_kinetics.zip', index=True, compression=compression_opts)"
   ]
  },
  {
   "cell_type": "code",
   "execution_count": null,
   "id": "656b0da1-8989-4d49-8201-24c1f726b38c",
   "metadata": {},
   "outputs": [],
   "source": [
    "kwargs = dict(linewidth=2, add_linfit=True, frameon=False)\n",
    "scv.pl.scatter(adata2, basis=top_genes[:15], ncols=5, add_outline='fit_diff_kinetics', **kwargs, save = 'Top_likelihood_genes_diff_kinetics.png')\n"
   ]
  },
  {
   "cell_type": "code",
   "execution_count": null,
   "id": "69a0662b-31ac-489a-babf-a4e396b97e09",
   "metadata": {},
   "outputs": [],
   "source": [
    "scv.pl.scatter(adata2, basis=top_genes[15:30], ncols=5, add_outline='fit_diff_kinetics', **kwargs, save = 'Top_likelihood_genes_diff_kinetics2.png')\n"
   ]
  },
  {
   "cell_type": "markdown",
   "id": "3046b168-aa27-4d7f-8b41-1ba441137c65",
   "metadata": {},
   "source": [
    "# 4.1- Recompute velocities"
   ]
  },
  {
   "cell_type": "markdown",
   "id": "04781e59-2679-4f44-accf-82dc65ef7782",
   "metadata": {},
   "source": [
    "Finally, velocities can be recomputed leveraging the information of multiple competing kinetic regimes."
   ]
  },
  {
   "cell_type": "code",
   "execution_count": null,
   "id": "f15322da-adb1-4b2d-b5d5-653bb33dc3a5",
   "metadata": {},
   "outputs": [],
   "source": [
    "scv.tl.velocity(adata2, diff_kinetics=True)\n",
    "scv.tl.velocity_graph(adata2)"
   ]
  },
  {
   "cell_type": "code",
   "execution_count": null,
   "id": "69181359-7c38-4dd7-9275-4bc1968b4103",
   "metadata": {},
   "outputs": [],
   "source": [
    "# Computes a gene-shared latent time.\n",
    "scv.tl.recover_latent_time(adata2)"
   ]
  },
  {
   "cell_type": "code",
   "execution_count": null,
   "id": "1603feac-2d84-4053-97d4-632ff5bad5b5",
   "metadata": {},
   "outputs": [],
   "source": [
    "top_genes = adata2.var.sort_values('fit_likelihood', ascending=False).index[:20]"
   ]
  },
  {
   "cell_type": "code",
   "execution_count": null,
   "id": "cd3f77c0-4204-4211-b4fa-808c602d302e",
   "metadata": {},
   "outputs": [],
   "source": [
    "top_genes"
   ]
  },
  {
   "cell_type": "code",
   "execution_count": null,
   "id": "b22df415-0298-4c20-8fca-8d2f8eee3c46",
   "metadata": {},
   "outputs": [],
   "source": [
    "scv.pl.scatter(adata2, basis=top_genes, frameon='artist', ncols = 5, color = 'SingleR.labels', save = \"top_genes_fit_likelihood_dynamic.png\")\n",
    "\n"
   ]
  },
  {
   "cell_type": "code",
   "execution_count": null,
   "id": "83322f7e-1593-42c2-bf0e-7b91ab2b68f0",
   "metadata": {},
   "outputs": [],
   "source": [
    "scv.pl.velocity(adata2,['RPL41', 'RPL26', 'PF4', 'RPLP2', 'RPL38', 'IGLV3-21', 'RPS20', 'RPL34', \n",
    "                        'HBB', 'B2M', 'RPS15A', 'RPS25', 'RPL31', 'TMSB10', 'SRGN', 'LEPROTL1', 'LYN', 'RCAN3', 'BCL11B', 'PLXDC2'], \n",
    "                basis=\"X_proj.umap\", ncols=2, save = \"top_genes_velocity.png\")"
   ]
  },
  {
   "cell_type": "code",
   "execution_count": null,
   "id": "b0c7852f-fe33-4785-b6fa-0971808e7c76",
   "metadata": {},
   "outputs": [],
   "source": [
    "#plot top genes colored by velocity pseudo-time\n",
    "scv.pl.scatter(adata2, basis=top_genes, frameon='artist', ncols = 5, color = 'velocity_pseudotime', save = \"top_genes_fit_likelihood_velocity_pseudotime_dynamic.png\")\n"
   ]
  },
  {
   "cell_type": "code",
   "execution_count": null,
   "id": "513d1427-2009-423b-8bee-9a6dc4f39ff3",
   "metadata": {},
   "outputs": [],
   "source": [
    "#plot top genes colored by latent time\n",
    "scv.pl.scatter(adata2, basis=top_genes, frameon='artist', ncols = 5, color = 'latent_time', save = \"true_top_genes_fit_likelihood_velocity_pseudotime_dynamic.png\")\n",
    "\n"
   ]
  },
  {
   "cell_type": "code",
   "execution_count": null,
   "id": "9e4b1f54-70c9-4828-a61e-708a6c97d83d",
   "metadata": {},
   "outputs": [],
   "source": [
    "_, ax = plt.subplots(figsize=(8, 8))\n",
    "scv.pl.velocity_embedding_stream(adata2, basis=\"X_proj.umap\", min_mass = 0, color = 'SingleR.labels', legend_loc = \"right margin\",save = \"RNAvelo_stream_proj.UMAP.png\", ax=ax)\n"
   ]
  },
  {
   "cell_type": "code",
   "execution_count": null,
   "id": "87ce6f3d-262a-4022-a608-83d93ad07f5b",
   "metadata": {},
   "outputs": [],
   "source": [
    "_, ax = plt.subplots(figsize=(8, 8))\n",
    "scv.pl.velocity_embedding_grid(adata2, basis='X_proj.umap', arrow_size = 2, arrow_length = 2, color = 'SingleR.labels', legend_loc = \"right margin\", save = \"RNAvelo_stream_proj.UMAP_grid.png\", ax=ax)"
   ]
  },
  {
   "cell_type": "code",
   "execution_count": null,
   "id": "bcc7f1b5-d21e-4d3f-b575-3e62843e2546",
   "metadata": {},
   "outputs": [],
   "source": [
    "#plot stream on UMAP colored by velocity pseudo-time\n",
    "_, ax = plt.subplots(figsize=(8, 8))\n",
    "scv.pl.velocity_embedding_stream(adata2, basis=\"X_proj.umap\", min_mass = 0, color = 'velocity_pseudotime', legend_loc = \"right margin\",save = \"RNAvelo_stream_velocity_pseudotime.pdf\", ax=ax)\n"
   ]
  },
  {
   "cell_type": "code",
   "execution_count": null,
   "id": "15b2f005-1372-467b-9028-4cf61eedb727",
   "metadata": {},
   "outputs": [],
   "source": [
    "#plot stream on UMAP colored by latent time\n",
    "_, ax = plt.subplots(figsize=(8, 8))\n",
    "scv.pl.velocity_embedding_stream(adata2, basis=\"X_proj.umap\", min_mass = 0, color = 'latent_time', legend_loc = \"right margin\",save = \"RNAvelo_stream_latent_time.png\", ax=ax)\n"
   ]
  },
  {
   "cell_type": "code",
   "execution_count": null,
   "id": "41783aa8-7ae9-4511-92b9-edc0fb619389",
   "metadata": {},
   "outputs": [],
   "source": [
    "scv.tl.velocity_confidence(adata2)\n",
    "keys = 'velocity_length', 'velocity_confidence'\n",
    "scv.pl.scatter(adata2, basis=\"X_proj.umap\", c=keys, cmap='coolwarm', perc=[5, 95], save = \"Velocity_confidence_length.png\")"
   ]
  },
  {
   "cell_type": "code",
   "execution_count": null,
   "id": "27b19670-37f9-4ef0-99c3-9db1608a3388",
   "metadata": {},
   "outputs": [],
   "source": []
  },
  {
   "cell_type": "code",
   "execution_count": null,
   "id": "68b923f7-7ad5-4fbd-8c15-e6cbcc045228",
   "metadata": {},
   "outputs": [],
   "source": []
  },
  {
   "cell_type": "code",
   "execution_count": null,
   "id": "3da395df-ff66-4443-9700-be8435d5be3c",
   "metadata": {},
   "outputs": [],
   "source": []
  },
  {
   "cell_type": "code",
   "execution_count": null,
   "id": "643f6869-1156-450f-ab58-2be19b28153e",
   "metadata": {},
   "outputs": [],
   "source": []
  }
 ],
 "metadata": {
  "kernelspec": {
   "display_name": "Python 3 (ipykernel)",
   "language": "python",
   "name": "python3"
  },
  "language_info": {
   "codemirror_mode": {
    "name": "ipython",
    "version": 3
   },
   "file_extension": ".py",
   "mimetype": "text/x-python",
   "name": "python",
   "nbconvert_exporter": "python",
   "pygments_lexer": "ipython3",
   "version": "3.11.4"
  }
 },
 "nbformat": 4,
 "nbformat_minor": 5
}
