{
 "cells": [
  {
   "cell_type": "markdown",
   "id": "907a2730",
   "metadata": {},
   "source": [
    "# Import libraries and setup¶"
   ]
  },
  {
   "cell_type": "markdown",
   "id": "650ca3fa",
   "metadata": {},
   "source": [
    "Oftentimes, the type of downstream analysis does not depend on the modality that was used to estimate cellular transitions - that’s why we modularized CellRank into kernels, which compute cell-cell transition matrices, and estimators, which analyze the transition matrices.\n",
    "\n",
    "use CellRank kernels to compute a transition matrix of cellular dynamics.\n",
    "use CellRank estimators to analyze the transition matrix, including the computation of fate probabilities, driver genes, and gene expression trends.\n",
    "read and write CellRank kernels."
   ]
  },
  {
   "cell_type": "code",
   "execution_count": null,
   "id": "5165f7cc",
   "metadata": {
    "scrolled": true
   },
   "outputs": [],
   "source": [
    "# Import libraries we may need\n",
    "import scanpy as sc\n",
    "import numpy as np\n",
    "import scipy as sp\n",
    "import sys\n",
    "import pandas as pd\n",
    "import matplotlib.pyplot as plt\n",
    "from matplotlib import rcParams\n",
    "from matplotlib import colors\n",
    "import seaborn as sb\n",
    "import scanpy.external as sce\n",
    "import umap\n",
    "reducer = umap.UMAP()\n",
    "import scvelo as scv\n",
    "import cellrank as cr\n",
    "import anndata as ad\n",
    "import igraph\n"
   ]
  },
  {
   "cell_type": "code",
   "execution_count": null,
   "id": "6da012e6",
   "metadata": {},
   "outputs": [],
   "source": [
    "# Set up output figure settings\n",
    "plt.rcParams['figure.figsize']=(128,128) #rescale figures, increase sizehere\n",
    "\n",
    "# Set up scanpy settings\n",
    "sc.settings.verbosity = 3\n",
    "sc.set_figure_params(dpi=100, dpi_save=300) #Increase DPI for better resolution figures\n",
    "#sc.logging.print_versions()"
   ]
  },
  {
   "cell_type": "markdown",
   "id": "30977b80",
   "metadata": {},
   "source": [
    "Global seed set to 0"
   ]
  },
  {
   "cell_type": "code",
   "execution_count": null,
   "id": "292d6ce5",
   "metadata": {},
   "outputs": [],
   "source": [
    "import warnings\n",
    "\n",
    "warnings.simplefilter(\"ignore\", category=UserWarning)"
   ]
  },
  {
   "cell_type": "markdown",
   "id": "87b25171",
   "metadata": {},
   "source": [
    "Use these functions to either save or load the environmental variables, otherwise you will lose all the objects between opening/closing Jupyter sessions!"
   ]
  },
  {
   "cell_type": "code",
   "execution_count": null,
   "id": "ecc87cef",
   "metadata": {},
   "outputs": [],
   "source": [
    "#save the session\n",
    "dill.dump_session('BM_Lonza_dataset_scVelo.db')"
   ]
  },
  {
   "cell_type": "code",
   "execution_count": null,
   "id": "f51b8c65",
   "metadata": {},
   "outputs": [],
   "source": [
    "#load the session\n",
    "dill.load_session('DC_SCANPY.db')"
   ]
  },
  {
   "cell_type": "markdown",
   "id": "0ba8f5f0",
   "metadata": {},
   "source": [
    "# Read the data"
   ]
  },
  {
   "cell_type": "code",
   "execution_count": null,
   "id": "dff60c9c",
   "metadata": {
    "scrolled": true
   },
   "outputs": [],
   "source": [
    "cd /Users/joaoluizsfilho/Library/CloudStorage/Dropbox/Work_Files/Matthias_Lab/Projects/Vivax_human_project/Results/Prospective_Study_1/BM_lonza/scRNAseq/Scanpy_analysis"
   ]
  },
  {
   "cell_type": "code",
   "execution_count": null,
   "id": "65b07e7e",
   "metadata": {},
   "outputs": [],
   "source": [
    "pwd"
   ]
  },
  {
   "cell_type": "code",
   "execution_count": null,
   "id": "1e8f96b9",
   "metadata": {},
   "outputs": [],
   "source": [
    "adata = scv.read('./h5ad_files/Merged_dataset/BM_merged_query_scVelo_cellrank.h5ad', cache=True)"
   ]
  },
  {
   "cell_type": "code",
   "execution_count": null,
   "id": "0ab497c6",
   "metadata": {},
   "outputs": [],
   "source": [
    "adata.write('./h5ad_files/Merged_dataset/BM_merged_query_scVelo_cellrank.h5ad')"
   ]
  },
  {
   "cell_type": "markdown",
   "id": "016eb1ff",
   "metadata": {},
   "source": [
    "# 1- Working with kernels (if data already preprocessed)"
   ]
  },
  {
   "cell_type": "markdown",
   "id": "fad36377",
   "metadata": {},
   "source": [
    "1.1- Set up a kernel"
   ]
  },
  {
   "cell_type": "markdown",
   "id": "4a73defc",
   "metadata": {},
   "source": [
    "To construct a transition matrix, CellRank offers a number of kernel classes in kernels. To demonstrate the concept, we’ll use the PseudotimeKernel which biases k-NN graph edges to point into the direction of increasing pseudotime, inspired by Palantir [Setty et al., 2019]."
   ]
  },
  {
   "cell_type": "code",
   "execution_count": null,
   "id": "922258d7",
   "metadata": {},
   "outputs": [],
   "source": [
    "adata"
   ]
  },
  {
   "cell_type": "code",
   "execution_count": null,
   "id": "7ded0c04",
   "metadata": {},
   "outputs": [],
   "source": [
    "from cellrank.kernels import PseudotimeKernel\n",
    "\n",
    "pk = PseudotimeKernel(adata, time_key=\"palantir_pseudotime\")"
   ]
  },
  {
   "cell_type": "code",
   "execution_count": null,
   "id": "b9b3e60d",
   "metadata": {},
   "outputs": [],
   "source": [
    "# use this kernel to compute a cell-cell transition_matrix.\n",
    "pk.compute_transition_matrix()"
   ]
  },
  {
   "cell_type": "code",
   "execution_count": null,
   "id": "68b923f7-7ad5-4fbd-8c15-e6cbcc045228",
   "metadata": {},
   "outputs": [],
   "source": [
    "pk"
   ]
  },
  {
   "cell_type": "markdown",
   "id": "62ced9f3",
   "metadata": {},
   "source": [
    "To get a first impression of the cellular dynamics in this dataset, we can simulate random walks on the Markov chain implied by the transition matrix, starting from hematopoietic stem cells (HSCs), and visualize these in the UMAP embedding.\n",
    "\n",
    "Black and yellow dots indicate random walk start and terminal cells, respectively. Overall, this reflects the known differentiation hierachy in human hematopoiesis."
   ]
  },
  {
   "cell_type": "code",
   "execution_count": null,
   "id": "1915a978",
   "metadata": {},
   "outputs": [],
   "source": [
    "pk.plot_random_walks(\n",
    "    seed=0,\n",
    "    n_sims=100,\n",
    "    start_ixs={\"SingleR.labels\": \"Hematopoietic stem cells_CD38- CD34+\"},\n",
    "    basis=\"X_proj.umap\",\n",
    "    legend_loc=\"right\",\n",
    "    dpi=150, save = \".pdf\"\n",
    ")"
   ]
  },
  {
   "cell_type": "markdown",
   "id": "954f5461",
   "metadata": {},
   "source": [
    "1.2- Kernel overview\n",
    "\n",
    "There exist CellRank kernels for many different data modalities. Each modality and biological system comes with its own strenghts and limitations, so it’s important to choose the kernel carefully. We provide some guidance in the figure below. However, please check the kernel API for a complete and up-to-date list, as new kernels will come.\n",
    "\n",
    "• Use the following kernels: VelocityKernel and PseudotimeKernel\n",
    "    \n",
    "Combining different kernels\n",
    "Any two kernels can be globally combined via a weighted mean. \n",
    "To demonstrate this, let’s set up an additional cellrank.kernels.ConnectivityKernel, based on gene expression similarity."
   ]
  },
  {
   "cell_type": "code",
   "execution_count": null,
   "id": "b4a0d961",
   "metadata": {},
   "outputs": [],
   "source": [
    "from cellrank.kernels import ConnectivityKernel\n",
    "\n",
    "ck = ConnectivityKernel(adata).compute_transition_matrix()"
   ]
  },
  {
   "cell_type": "code",
   "execution_count": null,
   "id": "950899cf",
   "metadata": {},
   "outputs": [],
   "source": [
    "# Print the kernel to see some properties\n",
    "ck"
   ]
  },
  {
   "cell_type": "code",
   "execution_count": null,
   "id": "a573554b",
   "metadata": {},
   "outputs": [],
   "source": [
    "# Combine with the PseudotimeKernel PseudotimeKernel from above.\n",
    "# This works for any combination of kernels, and generalizes to more than two kernels. \n",
    "# Kernel combinations allow you to use distinct sources of information to describe cellular dynamics.\n",
    "combined_kernel = 0.8 * pk + 0.2 * ck\n",
    "combined_kernel"
   ]
  },
  {
   "cell_type": "markdown",
   "id": "601bbac2",
   "metadata": {},
   "source": [
    "1.3- Writing and reading a kernel\n",
    "\n",
    "Sometimes, we might want to write the kernel to disk, to either continue with the analysis later on, or to pass it to someone else. This can be easily done; simply write the kernel to adata, and write adata to file:"
   ]
  },
  {
   "cell_type": "code",
   "execution_count": null,
   "id": "c4a34297",
   "metadata": {},
   "outputs": [],
   "source": [
    "pk.write_to_adata()\n",
    "adata.write(\"BM_merged_query_scVelo_cellrank_pk.h5ad\")"
   ]
  },
  {
   "cell_type": "markdown",
   "id": "836de3f2",
   "metadata": {},
   "source": [
    "To continue with the analysis, we read the anndata.AnnData object from disk, and initialize a new kernel from the AnnData object."
   ]
  },
  {
   "cell_type": "code",
   "execution_count": null,
   "id": "42ec3317",
   "metadata": {},
   "outputs": [],
   "source": [
    "adata = sc.read(\"./h5ad_files/Merged_dataset/BM_merged_query_scVelo_cellrank_pk.h5ad\")\n",
    "pk = cr.kernels.PseudotimeKernel.from_adata(adata, key=\"T_fwd\")\n",
    "pk"
   ]
  },
  {
   "cell_type": "code",
   "execution_count": null,
   "id": "25c1696b-d630-4aca-98d8-b46c3c3b572a",
   "metadata": {},
   "outputs": [],
   "source": [
    "adata"
   ]
  },
  {
   "cell_type": "markdown",
   "id": "260164e9",
   "metadata": {},
   "source": [
    "# 2- Working with estimators"
   ]
  },
  {
   "cell_type": "markdown",
   "id": "4f184d7c",
   "metadata": {},
   "source": [
    "# 2.1- Set up an estimator"
   ]
  },
  {
   "cell_type": "markdown",
   "id": "55a43a1d",
   "metadata": {},
   "source": [
    "Estimators take a kernel object and offer methods to analyze it. The main objective is to decompose the state space into a set of macrostates that represent the slow-time scale dynamics of the process. A subset of these macrostates will be the initial or terminal states of the process, the remaining states will be intermediate transient states. CellRank currently offers two estimator classes in cellrank.estimators:\n",
    "\n",
    "CFLARE: Clustering and Filtering Left And Right Eigenvectors. Heuristic method based on the spectrum of the transition matrix.\n",
    "GPCCA: Generalized Perron Cluster Cluster Analysis: project the Markov chain onto a small set of macrostates using a Galerkin projection which maximizes the self-transition probability for the macrostates, [Reuter et al., 2019, Reuter et al., 2018].\n",
    "We recommend the CFLARE estimator; let’s start by initializing it."
   ]
  },
  {
   "cell_type": "code",
   "execution_count": null,
   "id": "c0f95748",
   "metadata": {},
   "outputs": [],
   "source": [
    "from cellrank.estimators import GPCCA\n",
    "\n",
    "g = GPCCA(pk)\n",
    "print(g)"
   ]
  },
  {
   "cell_type": "code",
   "execution_count": null,
   "id": "9b42289a-4482-4f15-a3be-2cc1c7673902",
   "metadata": {},
   "outputs": [],
   "source": [
    "g"
   ]
  },
  {
   "cell_type": "markdown",
   "id": "3f9ab74f",
   "metadata": {},
   "source": [
    "# 2.2- Identify initial & terminal states"
   ]
  },
  {
   "cell_type": "markdown",
   "id": "a196e8cc",
   "metadata": {},
   "source": [
    "Fit the estimator to compute macrostates of cellular dynamics; these may include initial, terminal and intermediate states."
   ]
  },
  {
   "cell_type": "code",
   "execution_count": null,
   "id": "9183d28f",
   "metadata": {},
   "outputs": [],
   "source": [
    "g.fit(n_states=10, cluster_key=\"predicted.celltype.l2\")"
   ]
  },
  {
   "cell_type": "code",
   "execution_count": null,
   "id": "e632f279-8ac6-41ed-8af4-1c021b33c6a5",
   "metadata": {},
   "outputs": [],
   "source": [
    "g"
   ]
  },
  {
   "cell_type": "code",
   "execution_count": null,
   "id": "fd0aee53-01c2-4b4c-b4aa-78e0c41f1779",
   "metadata": {},
   "outputs": [],
   "source": [
    "g.plot_macrostates(which=\"all\", basis =\"X_proj.umap\", figsize = (8,8), save = 'macrostates.pdf')"
   ]
  },
  {
   "cell_type": "markdown",
   "id": "b287fef0",
   "metadata": {},
   "source": [
    "For each macrostate, the algorithm computes an associated stability value. Let’s use the most stable macrostates as terminal states [Lange et al., 2022, Reuter et al., 2019, Reuter et al., 2018]."
   ]
  },
  {
   "cell_type": "code",
   "execution_count": null,
   "id": "a7eac5c0",
   "metadata": {},
   "outputs": [],
   "source": [
    "g.predict_terminal_states(method=\"top_n\", n_states=6)"
   ]
  },
  {
   "cell_type": "code",
   "execution_count": null,
   "id": "e7fec040-00ac-4d9b-aec6-c931a6dd8924",
   "metadata": {},
   "outputs": [],
   "source": [
    "g.plot_macrostates(which=\"terminal\", basis =\"X_proj.umap\", figsize = (8,8))"
   ]
  },
  {
   "cell_type": "markdown",
   "id": "3808a53d",
   "metadata": {},
   "source": [
    "CellRank can also identify initial states - in this dataset, that does not make too much sense though, as the initial state was manually passed to Palantir to root the pseudotime computation."
   ]
  },
  {
   "cell_type": "markdown",
   "id": "6caa4a90",
   "metadata": {},
   "source": [
    "# 2.3- Compute fate probabilities and driver genes"
   ]
  },
  {
   "cell_type": "markdown",
   "id": "708d8e48",
   "metadata": {},
   "source": [
    "We can now compute how likely each cell is to reach each terminal state using compute_fate_probabilities()."
   ]
  },
  {
   "cell_type": "code",
   "execution_count": null,
   "id": "022f8b43",
   "metadata": {},
   "outputs": [],
   "source": [
    "g.compute_fate_probabilities()"
   ]
  },
  {
   "cell_type": "code",
   "execution_count": null,
   "id": "9cc92ddc-5c40-4b2c-b47a-7e0201d704c0",
   "metadata": {},
   "outputs": [],
   "source": [
    "g.plot_fate_probabilities(legend_loc=\"right\", basis =\"X_proj.umap\", figsize = (8,8), save = 'predicted_terminal_states.png')"
   ]
  },
  {
   "cell_type": "markdown",
   "id": "5c08d2b6",
   "metadata": {},
   "source": [
    "The plot above combines fate probabilities towards all terminal states, each cell is colored according to its most likely fate; color intensity reflects the degree of lineage priming. We could equally plot fate probabilities separately for each terminal state, or we can visualize them jointly in a circular projection [Lange et al., 2022, Velten et al., 2017].\n",
    "\n",
    "Each dot represents a cell, colored by cluster labels. Cells are arranged inside the circle according to their fate probabilities; fate biased cells are placed next to their corresponding corner while naive cells are placed in the middle."
   ]
  },
  {
   "cell_type": "code",
   "execution_count": null,
   "id": "ef23bb5c",
   "metadata": {},
   "outputs": [],
   "source": [
    "cr.pl.circular_projection(adata, keys=\"predicted.celltype.l2\", legend_loc=\"right\", figsize = (32,8), save = 'circular_projection.pdf')"
   ]
  },
  {
   "cell_type": "markdown",
   "id": "6f6bfd44",
   "metadata": {},
   "source": [
    "To infer putative driver genes for any of these trajectories, we correlate expression values with fate probabilities."
   ]
  },
  {
   "cell_type": "code",
   "execution_count": null,
   "id": "930eb890",
   "metadata": {},
   "outputs": [],
   "source": [
    "mono_drivers = g.compute_lineage_drivers(lineages=\"Mono_1_1\")\n",
    "mono_drivers.head(10)"
   ]
  },
  {
   "cell_type": "markdown",
   "id": "df2ece82",
   "metadata": {},
   "source": [
    "# 2.4- Visualize expression trends"
   ]
  },
  {
   "cell_type": "markdown",
   "id": "8e6922a4",
   "metadata": {},
   "source": [
    "Given fate probabilities and a pseudotime, we can plot trajectory-specific gene expression trends. Specifically, we fit Generalized Additive Models (GAMs), weighthing each cells contribution to each trajectory according to its vector of fate probabilities. We start by initializing a model.\n",
    "\n",
    "The GAMR uses the R package mgcv for parameter fitting; this requires you to have rpy2 installed. To avoid this and remain entirely in python, you can use cellrank.models.GAM, which uses pyGAM for parameter fitting."
   ]
  },
  {
   "cell_type": "code",
   "execution_count": null,
   "id": "f02c9105",
   "metadata": {},
   "outputs": [],
   "source": [
    "model = cr.models.GAM(adata)"
   ]
  },
  {
   "cell_type": "code",
   "execution_count": null,
   "id": "30caed17-ee08-4639-ac38-27f6a333e660",
   "metadata": {},
   "outputs": [],
   "source": [
    "adata.obs['SingleR.labels']"
   ]
  },
  {
   "cell_type": "code",
   "execution_count": null,
   "id": "100b137e-b67d-48e4-9bac-6a3359884bd1",
   "metadata": {},
   "outputs": [],
   "source": [
    "model"
   ]
  },
  {
   "cell_type": "markdown",
   "id": "b76fede4",
   "metadata": {},
   "source": [
    "We use MAGIC-imputed data for gene-trend visualization [van Dijk et al., 2018]. We don’t use imputed data for any other task."
   ]
  },
  {
   "cell_type": "code",
   "execution_count": null,
   "id": "6aa84ccd",
   "metadata": {},
   "outputs": [],
   "source": [
    "cr.pl.gene_trends(\n",
    "    adata,\n",
    "    model=model,\n",
    "    data_key=\"MAGIC_imputed_data\",\n",
    "    genes=[\"GATA1\", \"TFRC\", \"IRF8\", \"MPO\"],\n",
    "    same_plot=True,\n",
    "    ncols=1,\n",
    "    time_key=\"palantir_pseudotime\",\n",
    "    hide_cells=True, legend_loc='best', figsize = (8,16), save = \"gene_trends.pdf\") #Valid options are: `'upper', 'top', 'center', 'lower', 'bottom'`"
   ]
  },
  {
   "cell_type": "markdown",
   "id": "65cc606a",
   "metadata": {},
   "source": [
    "Above, we grouped expression trends by gene, and visualized several trajectories per panel. We can also do it the other way round - group expression trends by trajectory, visualize several genes per panel. While this is possible using the line plots from above (set transpose=True), we’ll demonstrate it using heatmaps."
   ]
  },
  {
   "cell_type": "code",
   "execution_count": null,
   "id": "c19374c3",
   "metadata": {},
   "outputs": [],
   "source": [
    "cr.pl.heatmap(\n",
    "    adata,\n",
    "    model=model,\n",
    "    data_key=\"MAGIC_imputed_data\",\n",
    "    genes=[\"GATA1\", \"TFRC\", \"IRF8\", \"MPO\"],\n",
    "    lineages=['CD16 Mono', 'CD4 Naive', 'Late Eryth_2', 'Memory B_2', 'pDC', 'pre-mDC'],\n",
    "    time_key=\"palantir_pseudotime\",\n",
    "    cbar=False,\n",
    "    show_all_genes=True, figsize = (8, 4), save = \"heatmap_gene_trends.pdf\")"
   ]
  },
  {
   "cell_type": "code",
   "execution_count": null,
   "id": "1cad1d8d",
   "metadata": {},
   "outputs": [],
   "source": []
  },
  {
   "cell_type": "code",
   "execution_count": null,
   "id": "c7bbc036",
   "metadata": {},
   "outputs": [],
   "source": []
  },
  {
   "cell_type": "code",
   "execution_count": null,
   "id": "18f14616",
   "metadata": {},
   "outputs": [],
   "source": []
  }
 ],
 "metadata": {
  "kernelspec": {
   "display_name": "Python 3 (ipykernel)",
   "language": "python",
   "name": "python3"
  },
  "language_info": {
   "codemirror_mode": {
    "name": "ipython",
    "version": 3
   },
   "file_extension": ".py",
   "mimetype": "text/x-python",
   "name": "python",
   "nbconvert_exporter": "python",
   "pygments_lexer": "ipython3",
   "version": "3.11.4"
  }
 },
 "nbformat": 4,
 "nbformat_minor": 5
}
